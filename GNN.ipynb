{
 "cells": [
  {
   "cell_type": "markdown",
   "metadata": {},
   "source": [
    "## Imports & Initializations"
   ]
  },
  {
   "cell_type": "code",
   "execution_count": 1,
   "metadata": {},
   "outputs": [
    {
     "name": "stdout",
     "output_type": "stream",
     "text": [
      "Requirement already satisfied: torch in c:\\users\\mai\\anaconda3\\lib\\site-packages (2.2.0)\n",
      "Requirement already satisfied: jinja2 in c:\\users\\mai\\anaconda3\\lib\\site-packages (from torch) (2.11.3)\n",
      "Requirement already satisfied: sympy in c:\\users\\mai\\anaconda3\\lib\\site-packages (from torch) (1.10.1)\n",
      "Requirement already satisfied: networkx in c:\\users\\mai\\anaconda3\\lib\\site-packages (from torch) (2.7.1)\n",
      "Requirement already satisfied: typing-extensions>=4.8.0 in c:\\users\\mai\\anaconda3\\lib\\site-packages (from torch) (4.9.0)\n",
      "Requirement already satisfied: fsspec in c:\\users\\mai\\anaconda3\\lib\\site-packages (from torch) (2022.2.0)\n",
      "Requirement already satisfied: filelock in c:\\users\\mai\\anaconda3\\lib\\site-packages (from torch) (3.6.0)\n",
      "Requirement already satisfied: MarkupSafe>=0.23 in c:\\users\\mai\\anaconda3\\lib\\site-packages (from jinja2->torch) (2.0.1)\n",
      "Requirement already satisfied: mpmath>=0.19 in c:\\users\\mai\\anaconda3\\lib\\site-packages (from sympy->torch) (1.2.1)\n",
      "Note: you may need to restart the kernel to use updated packages.\n",
      "Note: you may need to restart the kernel to use updated packages.\n"
     ]
    }
   ],
   "source": [
    "import os\n",
    "import pickle\n",
    "import json\n",
    "import random\n",
    "import numpy as np\n",
    "%pip install torch\n",
    "import torch\n",
    "import torch.nn as nn\n",
    "import torch.nn.functional as F\n",
    "%pip install torch_geometric -q\n",
    "import torch_geometric\n",
    "from torch_geometric.data import Data\n",
    "import networkx as nx\n",
    "import matplotlib.pyplot as plt\n",
    "import warnings\n",
    "from torch.utils.data import DataLoader, Dataset\n",
    "from torch_geometric.data import Data\n",
    "from torch_geometric.nn import GCNConv\n",
    "from torch.utils.data.dataloader import default_collate\n",
    "from torch.utils.data import random_split\n",
    "import math\n",
    "from torch_geometric.utils import to_dense_adj, add_self_loops\n",
    "from torch_geometric.nn import global_mean_pool\n",
    "import time\n",
    "from sklearn.model_selection import train_test_split\n",
    "\n",
    "# from tensorboardX import SummaryWriter\n",
    "from sklearn.manifold import TSNE"
   ]
  },
  {
   "cell_type": "code",
   "execution_count": 2,
   "metadata": {},
   "outputs": [],
   "source": [
    "# set seed\n",
    "seed = 42\n",
    "random.seed(seed)\n",
    "np.random.seed(seed)\n",
    "torch.manual_seed(seed)\n",
    "os.environ[\"PYTHONHASHSEED\"] = str(seed)\n",
    "warnings.filterwarnings(\"ignore\")\n",
    "DATA_PATH = \"done\""
   ]
  },
  {
   "cell_type": "markdown",
   "metadata": {},
   "source": [
    "## Dataset Structure"
   ]
  },
  {
   "cell_type": "code",
   "execution_count": 10,
   "metadata": {},
   "outputs": [
    {
     "name": "stdout",
     "output_type": "stream",
     "text": [
      "298\n",
      "['done\\\\adder11.txt', 'done\\\\adder12.txt', 'done\\\\adder13.txt', 'done\\\\adder14.txt', 'done\\\\adder15.txt', 'done\\\\adder16.txt', 'done\\\\adder17.txt', 'done\\\\adder18.txt', 'done\\\\adder19.txt', 'done\\\\adder2.txt', 'done\\\\adder20.txt', 'done\\\\adder4.txt', 'done\\\\adder5.txt', 'done\\\\adder6.txt', 'done\\\\adder8.txt', 'done\\\\ALU10.txt', 'done\\\\ALU13.txt', 'done\\\\ALU14.txt', 'done\\\\ALU15.txt', 'done\\\\ALU2.txt', 'done\\\\ALU6.txt', 'done\\\\ALU7.txt', 'done\\\\ALU8.txt', 'done\\\\ALU9.txt', 'done\\\\and1.txt', 'done\\\\and10.txt', 'done\\\\and12.txt', 'done\\\\and13.txt', 'done\\\\and14.txt', 'done\\\\and15.txt', 'done\\\\and16.txt', 'done\\\\and17.txt', 'done\\\\and18.txt', 'done\\\\and19.txt', 'done\\\\and2.txt', 'done\\\\and20.txt', 'done\\\\and21.txt', 'done\\\\and23.txt', 'done\\\\and25.txt', 'done\\\\and26.txt', 'done\\\\and27.txt', 'done\\\\and28.txt', 'done\\\\and29.txt', 'done\\\\and3.txt', 'done\\\\and30.txt', 'done\\\\and6.txt', 'done\\\\and7.txt', 'done\\\\and8.txt', 'done\\\\and9.txt', 'done\\\\comparator1.txt', 'done\\\\comparator13.txt', 'done\\\\comparator14.txt', 'done\\\\comparator15.txt', 'done\\\\comparator16.txt', 'done\\\\comparator17.txt', 'done\\\\comparator18.txt', 'done\\\\comparator19.txt', 'done\\\\comparator2.txt', 'done\\\\comparator20.txt', 'done\\\\comparator21.txt', 'done\\\\comparator22.txt', 'done\\\\comparator23.txt', 'done\\\\comparator24.txt', 'done\\\\comparator25.txt', 'done\\\\comparator26.txt', 'done\\\\comparator27.txt', 'done\\\\comparator28.txt', 'done\\\\comparator29.txt', 'done\\\\comparator3.txt', 'done\\\\comparator30.txt', 'done\\\\comparator31.txt', 'done\\\\comparator4.txt', 'done\\\\comparator5.txt', 'done\\\\comparator6.txt', 'done\\\\comparator7.txt', 'done\\\\comparator8.txt', 'done\\\\comparator9.txt', 'done\\\\decoder1.txt', 'done\\\\decoder11.txt', 'done\\\\decoder12.txt', 'done\\\\decoder13.txt', 'done\\\\decoder14.txt', 'done\\\\decoder15.txt', 'done\\\\decoder16.txt', 'done\\\\decoder17.txt', 'done\\\\decoder18.txt', 'done\\\\decoder19.txt', 'done\\\\decoder2.txt', 'done\\\\decoder20.txt', 'done\\\\decoder21.txt', 'done\\\\decoder22.txt', 'done\\\\decoder23.txt', 'done\\\\decoder24.txt', 'done\\\\decoder25.txt', 'done\\\\decoder26.txt', 'done\\\\decoder27.txt', 'done\\\\decoder28.txt', 'done\\\\decoder29.txt', 'done\\\\decoder3.txt', 'done\\\\decoder30.txt', 'done\\\\decoder31.txt', 'done\\\\decoder32.txt', 'done\\\\decoder4.txt', 'done\\\\encoder1.txt', 'done\\\\encoder10.txt', 'done\\\\encoder11.txt', 'done\\\\encoder12.txt', 'done\\\\encoder13.txt', 'done\\\\encoder14.txt', 'done\\\\encoder15.txt', 'done\\\\encoder16.txt', 'done\\\\encoder17.txt', 'done\\\\encoder18.txt', 'done\\\\encoder19.txt', 'done\\\\encoder2.txt', 'done\\\\encoder20.txt', 'done\\\\encoder21.txt', 'done\\\\encoder24.txt', 'done\\\\encoder25.txt', 'done\\\\encoder3.txt', 'done\\\\encoder4.txt', 'done\\\\encoder5.txt', 'done\\\\encoder6.txt', 'done\\\\encoder7.txt', 'done\\\\encoder8.txt', 'done\\\\encoder9.txt', 'done\\\\mult1.txt', 'done\\\\mult10.txt', 'done\\\\mult11.txt', 'done\\\\mult12.txt', 'done\\\\mult13.txt', 'done\\\\mult14.txt', 'done\\\\mult15.txt', 'done\\\\mult16.txt', 'done\\\\mult17.txt', 'done\\\\mult18.txt', 'done\\\\mult19.txt', 'done\\\\mult2.txt', 'done\\\\mult3.txt', 'done\\\\mult30.txt', 'done\\\\mult31.txt', 'done\\\\mult32.txt', 'done\\\\mult33.txt', 'done\\\\mult34.txt', 'done\\\\mult35.txt', 'done\\\\mult36.txt', 'done\\\\mult4.txt', 'done\\\\mult5.txt', 'done\\\\mult6.txt', 'done\\\\mult8.txt', 'done\\\\mult9.txt', 'done\\\\mux1.txt', 'done\\\\mux10.txt', 'done\\\\mux11.txt', 'done\\\\mux12.txt', 'done\\\\mux13.txt', 'done\\\\mux14.txt', 'done\\\\mux15.txt', 'done\\\\mux16.txt', 'done\\\\mux17.txt', 'done\\\\mux18.txt', 'done\\\\mux19.txt', 'done\\\\mux2.txt', 'done\\\\mux20.txt', 'done\\\\mux21.txt', 'done\\\\mux22.txt', 'done\\\\mux23.txt', 'done\\\\mux24.txt', 'done\\\\mux25.txt', 'done\\\\mux26.txt', 'done\\\\mux3.txt', 'done\\\\mux4.txt', 'done\\\\mux5.txt', 'done\\\\mux6.txt', 'done\\\\mux7.txt', 'done\\\\mux8.txt', 'done\\\\mux9.txt', 'done\\\\nand1.txt', 'done\\\\nand10.txt', 'done\\\\nand11.txt', 'done\\\\nand12.txt', 'done\\\\nand14.txt', 'done\\\\nand15.txt', 'done\\\\nand16.txt', 'done\\\\nand17.txt', 'done\\\\nand18.txt', 'done\\\\nand19.txt', 'done\\\\nand2.txt', 'done\\\\nand20.txt', 'done\\\\nand21.txt', 'done\\\\nand22.txt', 'done\\\\nand3.txt', 'done\\\\nand4.txt', 'done\\\\nand6.txt', 'done\\\\nand7.txt', 'done\\\\nand8.txt', 'done\\\\nand9.txt', 'done\\\\nor1.txt', 'done\\\\nor10.txt', 'done\\\\nor11.txt', 'done\\\\nor12.txt', 'done\\\\nor13.txt', 'done\\\\nor14.txt', 'done\\\\nor15.txt', 'done\\\\nor16.txt', 'done\\\\nor17.txt', 'done\\\\nor2.txt', 'done\\\\nor3.txt', 'done\\\\nor4.txt', 'done\\\\nor6.txt', 'done\\\\nor7.txt', 'done\\\\nor8.txt', 'done\\\\nor9.txt', 'done\\\\not1.txt', 'done\\\\not10.txt', 'done\\\\not11.txt', 'done\\\\not12.txt', 'done\\\\not13.txt', 'done\\\\not14.txt', 'done\\\\not2.txt', 'done\\\\not3.txt', 'done\\\\not6.txt', 'done\\\\not7.txt', 'done\\\\not9.txt', 'done\\\\or1.txt', 'done\\\\or10.txt', 'done\\\\or11.txt', 'done\\\\or12.txt', 'done\\\\or13.txt', 'done\\\\or14.txt', 'done\\\\or15.txt', 'done\\\\or16.txt', 'done\\\\or17.txt', 'done\\\\or18.txt', 'done\\\\or19.txt', 'done\\\\or2.txt', 'done\\\\or20.txt', 'done\\\\or21.txt', 'done\\\\or22.txt', 'done\\\\or23.txt', 'done\\\\or24.txt', 'done\\\\or25.txt', 'done\\\\or26.txt', 'done\\\\or28.txt', 'done\\\\or4.txt', 'done\\\\or7.txt', 'done\\\\or8.txt', 'done\\\\or9.txt', 'done\\\\pe1.txt', 'done\\\\pe14.txt', 'done\\\\pe15.txt', 'done\\\\pe16.txt', 'done\\\\pe17.txt', 'done\\\\pe18.txt', 'done\\\\pe19.txt', 'done\\\\pe2.txt', 'done\\\\pe20.txt', 'done\\\\pe21.txt', 'done\\\\pe22.txt', 'done\\\\pe3.txt', 'done\\\\pe32.txt', 'done\\\\pe4.txt', 'done\\\\pe5.txt', 'done\\\\pe6.txt', 'done\\\\pe7.txt', 'done\\\\sub1.txt', 'done\\\\sub10.txt', 'done\\\\sub11.txt', 'done\\\\sub12.txt', 'done\\\\sub2.txt', 'done\\\\sub5.txt', 'done\\\\sub6.txt', 'done\\\\sub7.txt', 'done\\\\sub8.txt', 'done\\\\sub9.txt', 'done\\\\xnor1.txt', 'done\\\\xnor10.txt', 'done\\\\xnor11.txt', 'done\\\\xnor12.txt', 'done\\\\xnor13.txt', 'done\\\\xnor14.txt', 'done\\\\xnor15.txt', 'done\\\\xnor16.txt', 'done\\\\xnor17.txt', 'done\\\\xnor18.txt', 'done\\\\xnor19.txt', 'done\\\\xnor2.txt', 'done\\\\xnor20.txt', 'done\\\\xnor21.txt', 'done\\\\xnor22.txt', 'done\\\\xnor23.txt', 'done\\\\xnor24.txt', 'done\\\\xnor25.txt', 'done\\\\xnor4.txt', 'done\\\\xnor6.txt', 'done\\\\xnor7.txt', 'done\\\\xnor8.txt', 'done\\\\xnor9.txt']\n"
     ]
    }
   ],
   "source": [
    "def get_files_in_folder(input_folder):\n",
    "    file_list = []\n",
    "    for file_name in os.listdir(input_folder):\n",
    "        file_path = os.path.join(input_folder, file_name)\n",
    "        if os.path.isfile(file_path):\n",
    "            file_list.append(file_path)\n",
    "    return file_list\n",
    "\n",
    "# Example usage:\n",
    "folder_path = 'done'\n",
    "verilog_files = get_files_in_folder(folder_path)\n",
    "print(len(verilog_files))\n",
    "print(verilog_files)"
   ]
  },
  {
   "cell_type": "code",
   "execution_count": 11,
   "metadata": {},
   "outputs": [],
   "source": [
    "def extracting_attributes(verilog_file):\n",
    "    try:\n",
    "        if os.path.isfile(verilog_file):\n",
    "            with open(verilog_file, \"r\") as file:\n",
    "                loaded_data = json.load(file)\n",
    "                nodes = loaded_data[0]\n",
    "                edges = loaded_data[1]\n",
    "                label = loaded_data[2]\n",
    "                \n",
    "                x = torch.tensor(nodes, dtype=torch.float)\n",
    "                edge_index = torch.tensor(edges, dtype=torch.long)\n",
    "                y = torch.tensor(label, dtype=torch.float)\n",
    "                num_nodes = x.size(0)\n",
    "                \n",
    "                # Create batch assignment vector (assuming one graph per file)\n",
    "                batch = torch.zeros(num_nodes, dtype=torch.long)\n",
    "                data = Data(x=x, edge_index=edge_index, y = y, batch = batch)\n",
    "                return data\n",
    "    \n",
    "    except Exception as e:\n",
    "        print(e)\n",
    "        return e\n",
    "\n",
    "# temp=extracting_attributes(\"./done/adder6.txt\")\n",
    "# temp"
   ]
  },
  {
   "cell_type": "code",
   "execution_count": 12,
   "metadata": {},
   "outputs": [
    {
     "name": "stdout",
     "output_type": "stream",
     "text": [
      "Loaded 298 Verilog files.\n",
      "298\n"
     ]
    }
   ],
   "source": [
    "class VerilogDataset(Dataset):  # Using Dataset from torch_geometric\n",
    "    def __init__(self, verilog_files):\n",
    "        print(f\"Loaded {len(verilog_files)} Verilog files.\")\n",
    "        self.verilog_files = verilog_files\n",
    "\n",
    "    def __len__(self):\n",
    "        return len(self.verilog_files)\n",
    "\n",
    "    def __getitem__(self, idx):\n",
    "        verilog_file = self.verilog_files[idx]\n",
    "        data = extracting_attributes(verilog_file)\n",
    "        return data\n",
    "\n",
    "dataset = VerilogDataset(verilog_files)\n",
    "print(len(dataset))"
   ]
  },
  {
   "cell_type": "code",
   "execution_count": 13,
   "metadata": {},
   "outputs": [
    {
     "name": "stdout",
     "output_type": "stream",
     "text": [
      "Data(x=[165, 20], edge_index=[2, 208], y=[1, 15], batch=[165])\n",
      "done\\adder11.txt\n",
      "done\\adder11.txt\n"
     ]
    }
   ],
   "source": [
    "print(dataset[0])\n",
    "print(verilog_files[0])\n",
    "print(dataset.verilog_files[0])"
   ]
  },
  {
   "cell_type": "code",
   "execution_count": 14,
   "metadata": {},
   "outputs": [
    {
     "name": "stdout",
     "output_type": "stream",
     "text": [
      "All data objects are unique.\n"
     ]
    }
   ],
   "source": [
    "def are_all_data_objects_unique(dataset):\n",
    "    data_objects = []\n",
    "    for data in dataset:\n",
    "        if data in data_objects:\n",
    "            return False\n",
    "        data_objects.append(data)\n",
    "    return True\n",
    "\n",
    "# Example usage:\n",
    "is_unique = are_all_data_objects_unique(dataset)\n",
    "if is_unique:\n",
    "    print(\"All data objects are unique.\")\n",
    "else:\n",
    "    print(\"Duplicate data objects found.\")\n"
   ]
  },
  {
   "cell_type": "code",
   "execution_count": 15,
   "metadata": {},
   "outputs": [
    {
     "data": {
      "text/plain": [
       "'done\\\\comparator2.txt'"
      ]
     },
     "execution_count": 15,
     "metadata": {},
     "output_type": "execute_result"
    }
   ],
   "source": [
    "num = random.randint(0, len(verilog_files))\n",
    "verilog_files[num]"
   ]
  },
  {
   "cell_type": "code",
   "execution_count": 16,
   "metadata": {},
   "outputs": [
    {
     "name": "stdout",
     "output_type": "stream",
     "text": [
      "11\n"
     ]
    },
    {
     "data": {
      "image/png": "[encoded data removed]",
      "text/plain": [
       "<Figure size 640x480 with 1 Axes>"
      ]
     },
     "metadata": {},
     "output_type": "display_data"
    }
   ],
   "source": [
    "data = dataset[num]\n",
    "data\n",
    "\n",
    "g = nx.Graph()\n",
    "g.add_nodes_from(range(data.num_nodes))\n",
    "edges = data.edge_index.t().tolist()\n",
    "# edge_attrs = {tuple(edge): attr.item() for edge, attr in zip(edges, data.edge_attr)}\n",
    "g.add_edges_from(edges)\n",
    "print(len(edges))\n",
    "\n",
    "# Draw the graph with edge attributes\n",
    "pos = nx.spring_layout(g)  # positions for all nodes\n",
    "nx.draw(g, pos, with_labels=True, node_color='skyblue', node_size=1500, edge_color='k', linewidths=1, font_size=15)\n",
    "nx.draw_networkx_edge_labels(g, pos, font_color='red', font_size=12)  # Add edge labels\n",
    "plt.show()"
   ]
  },
  {
   "cell_type": "code",
   "execution_count": 18,
   "metadata": {},
   "outputs": [],
   "source": [
    "def custom_collate(batch):\n",
    "    if isinstance(batch[0], Data):\n",
    "        return batch\n",
    "    else:\n",
    "        return default_collate(batch)\n",
    "    \n"
   ]
  },
  {
   "cell_type": "code",
   "execution_count": 19,
   "metadata": {},
   "outputs": [
    {
     "data": {
      "text/plain": [
       "tensor([[1., 0., 0., 0., 0., 0., 0., 0., 0., 0., 0., 0., 0., 0., 0.]])"
      ]
     },
     "execution_count": 19,
     "metadata": {},
     "output_type": "execute_result"
    }
   ],
   "source": [
    "dataset[0].y"
   ]
  },
  {
   "cell_type": "markdown",
   "metadata": {},
   "source": [
    "CHECK THIS TANYY"
   ]
  },
  {
   "cell_type": "code",
   "execution_count": 20,
   "metadata": {},
   "outputs": [],
   "source": [
    "# from torch.utils.data import random_split\n",
    "\n",
    "# # Define the sizes of training, validation, and test sets\n",
    "# train_size = int(0.7 * len(dataset))  # 70% of the data for training\n",
    "# val_size = int(0.15 * len(dataset))   # 15% of the data for validation\n",
    "# test_size = len(dataset) - train_size - val_size  # Remaining data for testing\n",
    "\n",
    "# # Split the dataset into training, validation, and test sets\n",
    "# train_dataset, val_dataset, test_dataset = random_split(dataset, [train_size, val_size, test_size])\n",
    "\n",
    "# # Create DataLoader for each set\n",
    "# train_dataloader = DataLoader(train_dataset, batch_size=32, shuffle=True)\n",
    "# val_dataloader = DataLoader(val_dataset, batch_size=32)\n",
    "# test_dataloader = DataLoader(test_dataset, batch_size=32)\n",
    "\n",
    "\n",
    "# Define the size of the training set (e.g., 70% of the data)\n",
    "train_size = int(0.7 * len(dataset))\n",
    "\n",
    "# Calculate the size of the testing set\n",
    "test_size = len(dataset) - train_size\n",
    "\n",
    "# Split the dataset into training and testing sets\n",
    "train_dataset, test_dataset = random_split(dataset, [train_size, test_size])\n",
    "\n",
    "# Create DataLoader for each set\n",
    "train_loader = DataLoader(train_dataset, batch_size=16, shuffle=True, collate_fn=custom_collate)\n",
    "test_loader = DataLoader(test_dataset, batch_size=16, collate_fn=custom_collate)\n"
   ]
  },
  {
   "cell_type": "code",
   "execution_count": 21,
   "metadata": {},
   "outputs": [
    {
     "name": "stdout",
     "output_type": "stream",
     "text": [
      "Data(x=[5, 20], edge_index=[2, 4], y=[1, 15], batch=[5])\n"
     ]
    }
   ],
   "source": [
    "# len(train_loader.dataset)\n",
    "print(train_loader.dataset[0])"
   ]
  },
  {
   "cell_type": "code",
   "execution_count": 22,
   "metadata": {},
   "outputs": [],
   "source": [
    "loader_iter = iter(train_loader)\n",
    "batch = next(loader_iter)\n",
    "# print(batch)\n",
    "# print(batch.num_graphs)"
   ]
  },
  {
   "cell_type": "code",
   "execution_count": 32,
   "metadata": {},
   "outputs": [
    {
     "data": {
      "text/plain": [
       "GCN(\n",
       "  (gcn1): GCNConv(20, 32)\n",
       "  (r1): ReLU()\n",
       "  (gcn2): GCNConv(32, 64)\n",
       "  (r2): ReLU()\n",
       "  (gcn3): GCNConv(64, 128)\n",
       "  (linear): Linear(in_features=128, out_features=15, bias=True)\n",
       ")"
      ]
     },
     "execution_count": 32,
     "metadata": {},
     "output_type": "execute_result"
    }
   ],
   "source": [
    "# from torch_geometric.nn import GCNConv\n",
    "class GCN(torch.nn.Module):\n",
    "    def __init__(self):\n",
    "        super(GCN, self).__init__()\n",
    "        \n",
    "        num_node_features = 20\n",
    "        num_output_classes = 15\n",
    "        \n",
    "        # num_channels = 32\n",
    "        \n",
    "        self.gcn1 = GCNConv(num_node_features, 32)\n",
    "        self.r1 = nn.ReLU()\n",
    "        self.gcn2 = GCNConv(32, 64)\n",
    "        self.r2 = nn.ReLU()\n",
    "        self.gcn3 = GCNConv(64, 128)\n",
    "        # self.r3 = nn.ReLU()\n",
    "        # self.gcn4 = GCNConv(128, 128)\n",
    "        self.linear = nn.Linear(in_features=128, out_features=num_output_classes)\n",
    "\n",
    "    def forward(self, x, edge_index, batch):\n",
    "    \n",
    "        x = self.gcn1(x, edge_index)\n",
    "        x = self.r1(x)\n",
    "        x = self.gcn2(x, edge_index)\n",
    "        x = self.r2(x)\n",
    "        x = self.gcn3(x, edge_index)\n",
    "        # x = self.r3(x)\n",
    "        # x = self.gcn4(x, edge_index)\n",
    "        x = global_mean_pool(x, batch)\n",
    "        \n",
    "        x = F.dropout(x, p = 0.5, training=self.training)\n",
    "        x = self.linear(x)\n",
    "        \n",
    "        probs = F.log_softmax(x, dim=-1)\n",
    "        \n",
    "        return probs\n",
    "        \n",
    "        \n",
    "        \n",
    "        # KNN\n",
    "        # embeddings\n",
    "        # PCA\n",
    "GCN()"
   ]
  },
  {
   "cell_type": "code",
   "execution_count": 33,
   "metadata": {},
   "outputs": [
    {
     "name": "stdout",
     "output_type": "stream",
     "text": [
      "Epoch: 001, Train Acc: 0.0913, Test Acc: 0.0444\n",
      "Epoch: 002, Train Acc: 0.0769, Test Acc: 0.0333\n",
      "Epoch: 003, Train Acc: 0.1106, Test Acc: 0.0444\n",
      "Epoch: 004, Train Acc: 0.1202, Test Acc: 0.0667\n",
      "Epoch: 005, Train Acc: 0.1779, Test Acc: 0.1556\n",
      "Epoch: 006, Train Acc: 0.2356, Test Acc: 0.2111\n",
      "Epoch: 007, Train Acc: 0.2740, Test Acc: 0.2444\n",
      "Epoch: 008, Train Acc: 0.2452, Test Acc: 0.2000\n",
      "Epoch: 009, Train Acc: 0.2740, Test Acc: 0.3333\n",
      "Epoch: 010, Train Acc: 0.2212, Test Acc: 0.2222\n",
      "Epoch: 011, Train Acc: 0.3269, Test Acc: 0.3111\n",
      "Epoch: 012, Train Acc: 0.3510, Test Acc: 0.3556\n",
      "Epoch: 013, Train Acc: 0.3702, Test Acc: 0.3111\n",
      "Epoch: 014, Train Acc: 0.3654, Test Acc: 0.2778\n",
      "Epoch: 015, Train Acc: 0.4471, Test Acc: 0.3444\n",
      "Epoch: 016, Train Acc: 0.4231, Test Acc: 0.3444\n",
      "Epoch: 017, Train Acc: 0.4327, Test Acc: 0.3000\n",
      "Epoch: 018, Train Acc: 0.4567, Test Acc: 0.3667\n",
      "Epoch: 019, Train Acc: 0.4471, Test Acc: 0.4222\n",
      "Epoch: 020, Train Acc: 0.4279, Test Acc: 0.3667\n",
      "Epoch: 021, Train Acc: 0.4712, Test Acc: 0.3778\n",
      "Epoch: 022, Train Acc: 0.4471, Test Acc: 0.4222\n",
      "Epoch: 023, Train Acc: 0.4471, Test Acc: 0.3889\n",
      "Epoch: 024, Train Acc: 0.4183, Test Acc: 0.3778\n",
      "Epoch: 025, Train Acc: 0.4952, Test Acc: 0.4000\n",
      "Epoch: 026, Train Acc: 0.4952, Test Acc: 0.4222\n",
      "Epoch: 027, Train Acc: 0.4712, Test Acc: 0.3222\n",
      "Epoch: 028, Train Acc: 0.4663, Test Acc: 0.4222\n",
      "Epoch: 029, Train Acc: 0.4904, Test Acc: 0.4444\n",
      "Epoch: 030, Train Acc: 0.4663, Test Acc: 0.4111\n",
      "Epoch: 031, Train Acc: 0.4952, Test Acc: 0.3889\n",
      "Epoch: 032, Train Acc: 0.4904, Test Acc: 0.4333\n",
      "Epoch: 033, Train Acc: 0.5144, Test Acc: 0.4778\n",
      "Epoch: 034, Train Acc: 0.4808, Test Acc: 0.3778\n",
      "Epoch: 035, Train Acc: 0.4856, Test Acc: 0.4000\n",
      "Epoch: 036, Train Acc: 0.4904, Test Acc: 0.4222\n",
      "Epoch: 037, Train Acc: 0.5096, Test Acc: 0.4000\n",
      "Epoch: 038, Train Acc: 0.5000, Test Acc: 0.3889\n",
      "Epoch: 039, Train Acc: 0.5096, Test Acc: 0.4333\n",
      "Epoch: 040, Train Acc: 0.5144, Test Acc: 0.4333\n",
      "Epoch: 041, Train Acc: 0.5433, Test Acc: 0.4556\n",
      "Epoch: 042, Train Acc: 0.5433, Test Acc: 0.4333\n",
      "Epoch: 043, Train Acc: 0.5048, Test Acc: 0.3778\n",
      "Epoch: 044, Train Acc: 0.4760, Test Acc: 0.4222\n",
      "Epoch: 045, Train Acc: 0.5625, Test Acc: 0.4667\n",
      "Epoch: 046, Train Acc: 0.5144, Test Acc: 0.4444\n",
      "Epoch: 047, Train Acc: 0.5144, Test Acc: 0.3667\n",
      "Epoch: 048, Train Acc: 0.5433, Test Acc: 0.4444\n",
      "Epoch: 049, Train Acc: 0.4952, Test Acc: 0.4333\n",
      "Epoch: 050, Train Acc: 0.6106, Test Acc: 0.4667\n",
      "Epoch: 051, Train Acc: 0.5769, Test Acc: 0.4333\n",
      "Epoch: 052, Train Acc: 0.5817, Test Acc: 0.4444\n",
      "Epoch: 053, Train Acc: 0.5865, Test Acc: 0.4444\n",
      "Epoch: 054, Train Acc: 0.5625, Test Acc: 0.4111\n",
      "Epoch: 055, Train Acc: 0.5721, Test Acc: 0.4222\n",
      "Epoch: 056, Train Acc: 0.6010, Test Acc: 0.4333\n",
      "Epoch: 057, Train Acc: 0.5769, Test Acc: 0.4222\n",
      "Epoch: 058, Train Acc: 0.6202, Test Acc: 0.5000\n",
      "Epoch: 059, Train Acc: 0.6058, Test Acc: 0.4333\n",
      "Epoch: 060, Train Acc: 0.6010, Test Acc: 0.4444\n",
      "Epoch: 061, Train Acc: 0.6298, Test Acc: 0.4889\n",
      "Epoch: 062, Train Acc: 0.6779, Test Acc: 0.4889\n",
      "Epoch: 063, Train Acc: 0.6298, Test Acc: 0.4333\n",
      "Epoch: 064, Train Acc: 0.6106, Test Acc: 0.4222\n",
      "Epoch: 065, Train Acc: 0.6394, Test Acc: 0.4333\n",
      "Epoch: 066, Train Acc: 0.6587, Test Acc: 0.4889\n",
      "Epoch: 067, Train Acc: 0.6442, Test Acc: 0.4444\n",
      "Epoch: 068, Train Acc: 0.6538, Test Acc: 0.4778\n",
      "Epoch: 069, Train Acc: 0.6538, Test Acc: 0.4667\n",
      "Epoch: 070, Train Acc: 0.6058, Test Acc: 0.4778\n",
      "Epoch: 071, Train Acc: 0.6587, Test Acc: 0.4889\n",
      "Epoch: 072, Train Acc: 0.6923, Test Acc: 0.5000\n",
      "Epoch: 073, Train Acc: 0.6394, Test Acc: 0.4222\n",
      "Epoch: 074, Train Acc: 0.6779, Test Acc: 0.5333\n",
      "Epoch: 075, Train Acc: 0.6827, Test Acc: 0.4667\n",
      "Epoch: 076, Train Acc: 0.6683, Test Acc: 0.4667\n",
      "Epoch: 077, Train Acc: 0.7163, Test Acc: 0.5333\n",
      "Epoch: 078, Train Acc: 0.6587, Test Acc: 0.5111\n",
      "Epoch: 079, Train Acc: 0.6923, Test Acc: 0.5222\n",
      "Epoch: 080, Train Acc: 0.6779, Test Acc: 0.5000\n",
      "Epoch: 081, Train Acc: 0.6779, Test Acc: 0.4889\n",
      "Epoch: 082, Train Acc: 0.6827, Test Acc: 0.5000\n",
      "Epoch: 083, Train Acc: 0.6875, Test Acc: 0.5333\n",
      "Epoch: 084, Train Acc: 0.6923, Test Acc: 0.5222\n",
      "Epoch: 085, Train Acc: 0.6827, Test Acc: 0.5333\n",
      "Epoch: 086, Train Acc: 0.7404, Test Acc: 0.5111\n",
      "Epoch: 087, Train Acc: 0.7308, Test Acc: 0.5889\n",
      "Epoch: 088, Train Acc: 0.6971, Test Acc: 0.5000\n",
      "Epoch: 089, Train Acc: 0.7260, Test Acc: 0.6000\n",
      "Epoch: 090, Train Acc: 0.7019, Test Acc: 0.5222\n",
      "Epoch: 091, Train Acc: 0.7163, Test Acc: 0.5444\n",
      "Epoch: 092, Train Acc: 0.7356, Test Acc: 0.5222\n",
      "Epoch: 093, Train Acc: 0.7500, Test Acc: 0.5778\n",
      "Epoch: 094, Train Acc: 0.7356, Test Acc: 0.6444\n",
      "Epoch: 095, Train Acc: 0.7356, Test Acc: 0.6000\n",
      "Epoch: 096, Train Acc: 0.7644, Test Acc: 0.6111\n",
      "Epoch: 097, Train Acc: 0.7500, Test Acc: 0.6111\n",
      "Epoch: 098, Train Acc: 0.7452, Test Acc: 0.5889\n",
      "Epoch: 099, Train Acc: 0.7452, Test Acc: 0.5667\n",
      "Epoch: 100, Train Acc: 0.7740, Test Acc: 0.6111\n",
      "Epoch: 101, Train Acc: 0.7644, Test Acc: 0.6111\n",
      "Epoch: 102, Train Acc: 0.7644, Test Acc: 0.5778\n",
      "Epoch: 103, Train Acc: 0.7212, Test Acc: 0.5667\n",
      "Epoch: 104, Train Acc: 0.7548, Test Acc: 0.5778\n",
      "Epoch: 105, Train Acc: 0.7452, Test Acc: 0.6000\n",
      "Epoch: 106, Train Acc: 0.7788, Test Acc: 0.5889\n",
      "Epoch: 107, Train Acc: 0.7548, Test Acc: 0.6111\n",
      "Epoch: 108, Train Acc: 0.7740, Test Acc: 0.5889\n",
      "Epoch: 109, Train Acc: 0.7981, Test Acc: 0.6111\n",
      "Epoch: 110, Train Acc: 0.7837, Test Acc: 0.6333\n",
      "Epoch: 111, Train Acc: 0.7452, Test Acc: 0.5778\n",
      "Epoch: 112, Train Acc: 0.7885, Test Acc: 0.5667\n",
      "Epoch: 113, Train Acc: 0.7308, Test Acc: 0.5778\n",
      "Epoch: 114, Train Acc: 0.7933, Test Acc: 0.5556\n",
      "Epoch: 115, Train Acc: 0.7596, Test Acc: 0.6111\n",
      "Epoch: 116, Train Acc: 0.7981, Test Acc: 0.5889\n",
      "Epoch: 117, Train Acc: 0.8221, Test Acc: 0.6556\n",
      "Epoch: 118, Train Acc: 0.7644, Test Acc: 0.5778\n",
      "Epoch: 119, Train Acc: 0.8029, Test Acc: 0.6000\n",
      "Epoch: 120, Train Acc: 0.7404, Test Acc: 0.5889\n",
      "Epoch: 121, Train Acc: 0.7837, Test Acc: 0.6000\n",
      "Epoch: 122, Train Acc: 0.7933, Test Acc: 0.6556\n",
      "Epoch: 123, Train Acc: 0.8029, Test Acc: 0.5667\n",
      "Epoch: 124, Train Acc: 0.8029, Test Acc: 0.6333\n",
      "Epoch: 125, Train Acc: 0.7548, Test Acc: 0.5889\n",
      "Epoch: 126, Train Acc: 0.8221, Test Acc: 0.5889\n",
      "Epoch: 127, Train Acc: 0.7885, Test Acc: 0.5889\n",
      "Epoch: 128, Train Acc: 0.8221, Test Acc: 0.6222\n",
      "Epoch: 129, Train Acc: 0.8029, Test Acc: 0.6444\n",
      "Epoch: 130, Train Acc: 0.8077, Test Acc: 0.6111\n",
      "Epoch: 131, Train Acc: 0.8269, Test Acc: 0.6111\n",
      "Epoch: 132, Train Acc: 0.8029, Test Acc: 0.6111\n",
      "Epoch: 133, Train Acc: 0.8365, Test Acc: 0.6222\n",
      "Epoch: 134, Train Acc: 0.8269, Test Acc: 0.6111\n",
      "Epoch: 135, Train Acc: 0.8221, Test Acc: 0.6111\n",
      "Epoch: 136, Train Acc: 0.7788, Test Acc: 0.6111\n",
      "Epoch: 137, Train Acc: 0.8077, Test Acc: 0.6111\n",
      "Epoch: 138, Train Acc: 0.8462, Test Acc: 0.6778\n",
      "Epoch: 139, Train Acc: 0.8077, Test Acc: 0.5889\n",
      "Epoch: 140, Train Acc: 0.8173, Test Acc: 0.6556\n",
      "Epoch: 141, Train Acc: 0.8269, Test Acc: 0.6222\n",
      "Epoch: 142, Train Acc: 0.8173, Test Acc: 0.6222\n",
      "Epoch: 143, Train Acc: 0.7692, Test Acc: 0.6000\n",
      "Epoch: 144, Train Acc: 0.7837, Test Acc: 0.6778\n",
      "Epoch: 145, Train Acc: 0.8269, Test Acc: 0.6556\n",
      "Epoch: 146, Train Acc: 0.8269, Test Acc: 0.6111\n",
      "Epoch: 147, Train Acc: 0.8221, Test Acc: 0.5889\n",
      "Epoch: 148, Train Acc: 0.8462, Test Acc: 0.6444\n",
      "Epoch: 149, Train Acc: 0.8413, Test Acc: 0.6667\n",
      "Epoch: 150, Train Acc: 0.8317, Test Acc: 0.6444\n",
      "Epoch: 151, Train Acc: 0.8365, Test Acc: 0.6000\n",
      "Epoch: 152, Train Acc: 0.8558, Test Acc: 0.6444\n",
      "Epoch: 153, Train Acc: 0.8221, Test Acc: 0.6111\n",
      "Epoch: 154, Train Acc: 0.8510, Test Acc: 0.6222\n",
      "Epoch: 155, Train Acc: 0.7933, Test Acc: 0.6667\n",
      "Epoch: 156, Train Acc: 0.7837, Test Acc: 0.5778\n",
      "Epoch: 157, Train Acc: 0.8510, Test Acc: 0.6333\n",
      "Epoch: 158, Train Acc: 0.8558, Test Acc: 0.6333\n",
      "Epoch: 159, Train Acc: 0.8317, Test Acc: 0.6111\n",
      "Epoch: 160, Train Acc: 0.8029, Test Acc: 0.6333\n",
      "Epoch: 161, Train Acc: 0.8462, Test Acc: 0.6333\n",
      "Epoch: 162, Train Acc: 0.8317, Test Acc: 0.6111\n",
      "Epoch: 163, Train Acc: 0.8317, Test Acc: 0.6000\n",
      "Epoch: 164, Train Acc: 0.8510, Test Acc: 0.6333\n",
      "Epoch: 165, Train Acc: 0.7452, Test Acc: 0.5778\n",
      "Epoch: 166, Train Acc: 0.8221, Test Acc: 0.6556\n",
      "Epoch: 167, Train Acc: 0.8317, Test Acc: 0.6222\n",
      "Epoch: 168, Train Acc: 0.8558, Test Acc: 0.6333\n",
      "Epoch: 169, Train Acc: 0.8221, Test Acc: 0.6333\n",
      "Epoch: 170, Train Acc: 0.8510, Test Acc: 0.6000\n",
      "Epoch: 171, Train Acc: 0.8558, Test Acc: 0.5889\n",
      "Epoch: 172, Train Acc: 0.8413, Test Acc: 0.6111\n",
      "Epoch: 173, Train Acc: 0.8365, Test Acc: 0.6556\n",
      "Epoch: 174, Train Acc: 0.8462, Test Acc: 0.5889\n",
      "Epoch: 175, Train Acc: 0.8654, Test Acc: 0.6444\n",
      "Epoch: 176, Train Acc: 0.8558, Test Acc: 0.6444\n",
      "Epoch: 177, Train Acc: 0.8510, Test Acc: 0.6556\n",
      "Epoch: 178, Train Acc: 0.8510, Test Acc: 0.6333\n",
      "Epoch: 179, Train Acc: 0.8558, Test Acc: 0.6222\n",
      "Epoch: 180, Train Acc: 0.8462, Test Acc: 0.6667\n",
      "Epoch: 181, Train Acc: 0.8462, Test Acc: 0.6000\n",
      "Epoch: 182, Train Acc: 0.8606, Test Acc: 0.6556\n",
      "Epoch: 183, Train Acc: 0.8462, Test Acc: 0.6778\n",
      "Epoch: 184, Train Acc: 0.8510, Test Acc: 0.6444\n",
      "Epoch: 185, Train Acc: 0.8558, Test Acc: 0.6444\n",
      "Epoch: 186, Train Acc: 0.8365, Test Acc: 0.6333\n",
      "Epoch: 187, Train Acc: 0.8654, Test Acc: 0.6778\n",
      "Epoch: 188, Train Acc: 0.8606, Test Acc: 0.6778\n",
      "Epoch: 189, Train Acc: 0.8029, Test Acc: 0.5556\n",
      "Epoch: 190, Train Acc: 0.8365, Test Acc: 0.6556\n",
      "Epoch: 191, Train Acc: 0.8702, Test Acc: 0.6667\n",
      "Epoch: 192, Train Acc: 0.8558, Test Acc: 0.6778\n",
      "Epoch: 193, Train Acc: 0.8558, Test Acc: 0.6778\n",
      "Epoch: 194, Train Acc: 0.8558, Test Acc: 0.6333\n",
      "Epoch: 195, Train Acc: 0.8269, Test Acc: 0.5778\n",
      "Epoch: 196, Train Acc: 0.8413, Test Acc: 0.6778\n",
      "Epoch: 197, Train Acc: 0.8558, Test Acc: 0.6222\n",
      "Epoch: 198, Train Acc: 0.8750, Test Acc: 0.6444\n",
      "Epoch: 199, Train Acc: 0.7885, Test Acc: 0.6333\n",
      "Epoch: 200, Train Acc: 0.8413, Test Acc: 0.6778\n",
      "Training duration: 656.0372412204742 seconds\n"
     ]
    }
   ],
   "source": [
    "\n",
    "\n",
    "device = torch.device('cuda' if torch.cuda.is_available() else 'cpu')\n",
    "gcn = GCN()\n",
    "gcn = gcn.to(device)\n",
    "# print(gcn.parameters())\n",
    "# optimizer\n",
    "optimizer = torch.optim.Adam(gcn.parameters(), lr=0.001, weight_decay=0.0005)\n",
    "# loss\n",
    "criterion = torch.nn.CrossEntropyLoss()\n",
    "\n",
    "out_labels = []\n",
    "\n",
    "# training_running_loss = 0.0\n",
    "\n",
    "def train(train_loader):\n",
    "    \n",
    "    gcn.train()\n",
    "    # print(gcn.parameters())\n",
    "    for batch_data in train_loader:  # Iterate in batches over the training dataset.\n",
    "        for data in batch_data:\n",
    "            optimizer.zero_grad()\n",
    "            data = data.to(device)\n",
    "            #forward pass\n",
    "            out = gcn(data.x, data.edge_index, data.batch)\n",
    "            # calculate the loss\n",
    "            loss = criterion(out, data.y)\n",
    "            # zero the gradients of the weights so that the gradients are not accumulated\n",
    "            # calculate the gradients using backpropagation\n",
    "            loss.backward()\n",
    "            # update the weights\n",
    "            optimizer.step()\n",
    "            \n",
    "            # calculate the loss\n",
    "            # training_running_loss += loss.detach().item()\n",
    "            \n",
    "            out_labels.append((out, data.y))\n",
    "        \n",
    "        \n",
    "\n",
    "testing_labels = []\n",
    "def test(loader):\n",
    "    gcn.eval()\n",
    "    correct = 0\n",
    "    for batch_data in loader:  # Iterate in batches over the training/test dataset.\n",
    "        for data in batch_data:\n",
    "            out = gcn(data.x, data.edge_index, data.batch)  \n",
    "            pred = out.argmax(dim=1)  # Use the class with highest probability.\n",
    "            testing_labels.append(pred)\n",
    "            y_label = (data.y.tolist())\n",
    "            y_label = y_label[0].index(1.0)\n",
    "            pred_label = (pred.tolist())[0]\n",
    "            # print(pred_label)\n",
    "            # print(y_label)\n",
    "            if y_label == pred_label:\n",
    "                correct += 1            \n",
    "            # correct += int((pred == data.y).sum())  # Check against ground-truth labels.\n",
    "    return correct / len(loader.dataset)  # Derive ratio of correct predictions.\n",
    "\n",
    "\n",
    "# Start the timer\n",
    "start_time = time.time()\n",
    "\n",
    "num_epochs = 200\n",
    "# Your training code here\n",
    "for epoch in range(num_epochs):\n",
    "    train(train_loader)\n",
    "    train_acc = test(train_loader)\n",
    "    test_acc = test(test_loader)\n",
    "    print(f'Epoch: {epoch + 1:03d}, Train Acc: {train_acc:.4f}, Test Acc: {test_acc:.4f}')\n",
    "    \n",
    "\n",
    "\n",
    "\n",
    "# End the timer\n",
    "end_time = time.time()\n",
    "\n",
    "# Calculate the duration\n",
    "duration = end_time - start_time\n",
    "print(\"Training duration:\", duration, \"seconds\")\n",
    "# with open(\"out_labels.txt\", \"w\") as output:\n",
    "#         output.write(str(out_labels))"
   ]
  },
  {
   "cell_type": "code",
   "execution_count": 34,
   "metadata": {},
   "outputs": [
    {
     "data": {
      "text/plain": [
       "0.6777777777777778"
      ]
     },
     "execution_count": 34,
     "metadata": {},
     "output_type": "execute_result"
    }
   ],
   "source": [
    "test_acc"
   ]
  },
  {
   "cell_type": "code",
   "execution_count": 35,
   "metadata": {},
   "outputs": [],
   "source": [
    "torch.save(gcn.state_dict(), 'gcn_model84-67-0001-200.pth')"
   ]
  },
  {
   "cell_type": "code",
   "execution_count": 29,
   "metadata": {},
   "outputs": [
    {
     "data": {
      "text/plain": [
       "2"
      ]
     },
     "execution_count": 29,
     "metadata": {},
     "output_type": "execute_result"
    }
   ],
   "source": [
    "len(dataset[0].edge_index)"
   ]
  },
  {
   "cell_type": "code",
   "execution_count": 66,
   "metadata": {},
   "outputs": [
    {
     "data": {
      "text/plain": [
       "{(6, 6): 10,\n",
       " (3, 3): 5,\n",
       " (14, 14): 6,\n",
       " (5, 5): 4,\n",
       " (12, 12): 4,\n",
       " (0, 5): 1,\n",
       " (13, 13): 4,\n",
       " (4, 4): 3,\n",
       " (7, 4): 1,\n",
       " (14, 11): 1,\n",
       " (5, 9): 1,\n",
       " (8, 8): 2,\n",
       " (12, 3): 2,\n",
       " (2, 14): 1,\n",
       " (11, 11): 2,\n",
       " (9, 2): 1,\n",
       " (14, 12): 1,\n",
       " (14, 2): 1,\n",
       " (4, 3): 2,\n",
       " (13, 11): 1,\n",
       " (9, 9): 3,\n",
       " (10, 11): 1,\n",
       " (1, 1): 1,\n",
       " (7, 7): 3,\n",
       " (2, 2): 6,\n",
       " (2, 6): 1,\n",
       " (6, 13): 1,\n",
       " (0, 0): 5,\n",
       " (13, 10): 3,\n",
       " (10, 10): 3,\n",
       " (4, 7): 2,\n",
       " (4, 10): 1,\n",
       " (0, 8): 1,\n",
       " (13, 12): 1,\n",
       " (2, 1): 1,\n",
       " (10, 2): 1}"
      ]
     },
     "execution_count": 66,
     "metadata": {},
     "output_type": "execute_result"
    }
   ],
   "source": [
    "# num = random.randint(0, len(verilog_files))\n",
    "# print(verilog_files[num])\n",
    "output_dict = dict()\n",
    "for data_trial in test_loader.dataset:\n",
    "    \n",
    "    out = gcn(data_trial.x, data_trial.edge_index, data_trial.batch)\n",
    "    pred = out.argmax(dim=1)\n",
    "    \n",
    "    # if pred.tolist()[0] != (data_trial.y.tolist())[0].index(1.0):\n",
    "    output_dict[(pred.tolist()[0], (data_trial.y.tolist())[0].index(1.0))] = output_dict.get((pred.tolist()[0], (data_trial.y.tolist())[0].index(1.0)), 0) +1\n",
    "        # print(pred.tolist())\n",
    "        # print((data_trial.y.tolist())[0].index(1.0))\n",
    "\n",
    "\n",
    "output_dict\n",
    "        "
   ]
  },
  {
   "cell_type": "code",
   "execution_count": 17,
   "metadata": {},
   "outputs": [
    {
     "data": {
      "text/plain": [
       "<All keys matched successfully>"
      ]
     },
     "execution_count": 17,
     "metadata": {},
     "output_type": "execute_result"
    }
   ],
   "source": [
    "# gcn = GCN()\n",
    "# gcn.load_state_dict(torch.load('gcn_model85-59-0001-200.pth'))\n",
    "\n"
   ]
  },
  {
   "cell_type": "markdown",
   "metadata": {},
   "source": [
    "## Experiment 1\n"
   ]
  },
  {
   "cell_type": "markdown",
   "metadata": {},
   "source": [
    "### Mode of Operation"
   ]
  },
  {
   "cell_type": "markdown",
   "metadata": {},
   "source": [
    "* 321 verilog files \n",
    "* only 3 features             [type, operation_type, num_of_connections]\n",
    "* no edge attribute\n",
    "* 18 classes \n",
    "* 200 epochs \n",
    "* learning rate = 0.01\n",
    "* Dropoout = 0.4\n",
    "* Adam Optimizer\n",
    "* train 70, test 30 (on whole dataset, not each class)\n",
    "* time of training = seconds\n"
   ]
  },
  {
   "cell_type": "markdown",
   "metadata": {},
   "source": [
    "### Results"
   ]
  },
  {
   "cell_type": "markdown",
   "metadata": {},
   "source": [
    "* Train acc:  0.2902\n",
    "* Test Acc: 0.1959\n"
   ]
  },
  {
   "cell_type": "markdown",
   "metadata": {},
   "source": [
    "### Suggested Modifications for upcoming experiments"
   ]
  },
  {
   "cell_type": "markdown",
   "metadata": {},
   "source": [
    "1) Clean dataset (by removing unnecessay, uninformative or wrong code files)\n",
    "2) remove reduntant parsing (different files but same parsing)\n",
    "3) include more informative features\n",
    "4) improve encoding format\n",
    "5) try using less classes (most important ones, so that less classes but more balanced dataset)\n",
    "6) adding more files\n",
    "7) adjusting hyperparameters such as learning rate, dropout, ...etc\n",
    "8) splitting train, val, test\n",
    "9) using equal percentages of each class (adjusting splitting)"
   ]
  },
  {
   "cell_type": "markdown",
   "metadata": {},
   "source": []
  },
  {
   "cell_type": "markdown",
   "metadata": {},
   "source": [
    "## Experiment 2"
   ]
  },
  {
   "cell_type": "markdown",
   "metadata": {},
   "source": [
    "### Mode of Operation"
   ]
  },
  {
   "cell_type": "markdown",
   "metadata": {},
   "source": [
    "### Results"
   ]
  },
  {
   "cell_type": "markdown",
   "metadata": {},
   "source": [
    "### Suggested Modifications for upcoming experiments"
   ]
  },
  {
   "cell_type": "markdown",
   "metadata": {},
   "source": []
  },
  {
   "cell_type": "markdown",
   "metadata": {},
   "source": [
    "# Experiment 5"
   ]
  },
  {
   "cell_type": "markdown",
   "metadata": {},
   "source": [
    "lr = 0.001\n",
    "\n",
    "droput 0.4\n",
    "\n",
    "314 files\n",
    "\n",
    "17 features (node_type)\n",
    "\n",
    "16 classes\n",
    "\n",
    "conv relu conv relu conv relu conv linear\n",
    "\n",
    "train = 40, test = 27\n",
    "\n",
    "200 epochs\n"
   ]
  },
  {
   "cell_type": "markdown",
   "metadata": {},
   "source": [
    "# experiment 6 "
   ]
  },
  {
   "cell_type": "markdown",
   "metadata": {},
   "source": [
    "same as 5 but 100 epochs"
   ]
  },
  {
   "cell_type": "markdown",
   "metadata": {},
   "source": [
    "train = 43, test = 25"
   ]
  },
  {
   "cell_type": "markdown",
   "metadata": {},
   "source": [
    "# Experiment 7"
   ]
  },
  {
   "cell_type": "markdown",
   "metadata": {},
   "source": [
    "lr = 0.001\n",
    "\n",
    "conv relu conv relu conv dropout linear\n",
    "\n",
    "9 classes\n",
    "\n",
    "164 file\n",
    "\n",
    "train = 34, test = 26"
   ]
  },
  {
   "cell_type": "markdown",
   "metadata": {},
   "source": []
  },
  {
   "cell_type": "markdown",
   "metadata": {},
   "source": [
    "# Experiment 8"
   ]
  },
  {
   "cell_type": "markdown",
   "metadata": {},
   "source": [
    "lr = 0.001\n",
    "\n",
    "9 classes\n",
    "\n",
    "conv relu conv relu conv dropout linear \n",
    "\n",
    "train = 64, test = 52\n",
    "\n",
    "164 \n",
    "\n",
    "17 features (node type)\n"
   ]
  },
  {
   "cell_type": "markdown",
   "metadata": {},
   "source": []
  }
 ],
 "metadata": {
  "kernelspec": {
   "display_name": "base",
   "language": "python",
   "name": "python3"
  },
  "language_info": {
   "codemirror_mode": {
    "name": "ipython",
    "version": 3
   },
   "file_extension": ".py",
   "mimetype": "text/x-python",
   "name": "python",
   "nbconvert_exporter": "python",
   "pygments_lexer": "ipython3",
   "version": "3.9.12"
  }
 },
 "nbformat": 4,
 "nbformat_minor": 2
}
