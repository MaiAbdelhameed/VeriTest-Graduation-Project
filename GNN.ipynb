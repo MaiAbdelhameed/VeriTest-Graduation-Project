{
 "cells": [
  {
   "cell_type": "markdown",
   "metadata": {},
   "source": [
    "## Imports & Initializations"
   ]
  },
  {
   "cell_type": "code",
   "execution_count": 18,
   "metadata": {},
   "outputs": [
    {
     "name": "stdout",
     "output_type": "stream",
     "text": [
      "Requirement already satisfied: torch in c:\\users\\mai\\anaconda3\\lib\\site-packages (2.2.0)\n",
      "Requirement already satisfied: typing-extensions>=4.8.0 in c:\\users\\mai\\anaconda3\\lib\\site-packages (from torch) (4.9.0)\n",
      "Requirement already satisfied: jinja2 in c:\\users\\mai\\anaconda3\\lib\\site-packages (from torch) (2.11.3)\n",
      "Requirement already satisfied: sympy in c:\\users\\mai\\anaconda3\\lib\\site-packages (from torch) (1.10.1)\n",
      "Requirement already satisfied: filelock in c:\\users\\mai\\anaconda3\\lib\\site-packages (from torch) (3.6.0)\n",
      "Requirement already satisfied: networkx in c:\\users\\mai\\anaconda3\\lib\\site-packages (from torch) (2.7.1)\n",
      "Requirement already satisfied: fsspec in c:\\users\\mai\\anaconda3\\lib\\site-packages (from torch) (2022.2.0)\n",
      "Requirement already satisfied: MarkupSafe>=0.23 in c:\\users\\mai\\anaconda3\\lib\\site-packages (from jinja2->torch) (2.0.1)\n",
      "Requirement already satisfied: mpmath>=0.19 in c:\\users\\mai\\anaconda3\\lib\\site-packages (from sympy->torch) (1.2.1)\n"
     ]
    }
   ],
   "source": [
    "import os\n",
    "import pickle\n",
    "import json\n",
    "import random\n",
    "import numpy as np\n",
    "!pip install torch\n",
    "import torch\n",
    "import torch.nn as nn\n",
    "import torch.nn.functional as F\n",
    "!pip install torch_geometric -q\n",
    "import torch_geometric\n",
    "from torch_geometric.data import Data\n",
    "import networkx as nx\n",
    "import matplotlib.pyplot as plt\n",
    "import warnings\n",
    "from torch.utils.data import DataLoader, Dataset\n",
    "from torch_geometric.data import Data\n",
    "from torch_geometric.nn import GCNConv\n",
    "from torch.utils.data.dataloader import default_collate\n",
    "from torch.utils.data import random_split\n",
    "import math\n",
    "from torch_geometric.utils import to_dense_adj, add_self_loops\n",
    "from torch_geometric.nn import global_mean_pool\n",
    "import time\n",
    "from sklearn.model_selection import train_test_split\n",
    "\n",
    "# from tensorboardX import SummaryWriter\n",
    "from sklearn.manifold import TSNE"
   ]
  },
  {
   "cell_type": "code",
   "execution_count": 19,
   "metadata": {},
   "outputs": [],
   "source": [
    "# set seed\n",
    "seed = 42\n",
    "random.seed(seed)\n",
    "np.random.seed(seed)\n",
    "torch.manual_seed(seed)\n",
    "os.environ[\"PYTHONHASHSEED\"] = str(seed)\n",
    "warnings.filterwarnings(\"ignore\")\n",
    "DATA_PATH = \"done\""
   ]
  },
  {
   "cell_type": "markdown",
   "metadata": {},
   "source": [
    "## Dataset Structure"
   ]
  },
  {
   "cell_type": "code",
   "execution_count": 20,
   "metadata": {},
   "outputs": [
    {
     "name": "stdout",
     "output_type": "stream",
     "text": [
      "164\n"
     ]
    }
   ],
   "source": [
    "def get_files_in_folder(input_folder):\n",
    "    file_list = []\n",
    "    for file_name in os.listdir(input_folder):\n",
    "        file_path = os.path.join(input_folder, file_name)\n",
    "        if os.path.isfile(file_path):\n",
    "            file_list.append(file_path)\n",
    "    return file_list\n",
    "\n",
    "# Example usage:\n",
    "folder_path = 'done'\n",
    "verilog_files = get_files_in_folder(folder_path)\n",
    "print(len(verilog_files))"
   ]
  },
  {
   "cell_type": "code",
   "execution_count": 4,
   "metadata": {},
   "outputs": [],
   "source": [
    "# import random\n",
    "\n",
    "# # Shuffle the dataset in-place\n",
    "# random.shuffle(verilog_files)"
   ]
  },
  {
   "cell_type": "code",
   "execution_count": 21,
   "metadata": {},
   "outputs": [],
   "source": [
    "def extracting_attributes(verilog_file):\n",
    "    try:\n",
    "        if os.path.isfile(verilog_file):\n",
    "            with open(verilog_file, \"r\") as file:\n",
    "                loaded_data = json.load(file)\n",
    "                nodes = loaded_data[0]\n",
    "                edges = loaded_data[1]\n",
    "                # edge_atr = loaded_data[2]\n",
    "                label = loaded_data[3]\n",
    "                \n",
    "                x = torch.tensor(nodes, dtype=torch.float)\n",
    "                edge_index = torch.tensor(edges, dtype=torch.long)\n",
    "                # edge_atr = torch.tensor(edge_atr, dtype=torch.long)\n",
    "                y = torch.tensor(label, dtype=torch.float)\n",
    "                num_nodes = x.size(0)\n",
    "                # print(num_nodes)\n",
    "                \n",
    "                # Create batch assignment vector (assuming one graph per file)\n",
    "                batch = torch.zeros(num_nodes, dtype=torch.long)\n",
    "                # data = Data(x=x, edge_index=edge_index, edge_attr=edge_atr ,y = y, batch = batch)\n",
    "                data = Data(x=x, edge_index=edge_index, y = y, batch = batch)\n",
    "                return data\n",
    "    \n",
    "    except Exception as e:\n",
    "        print(e)\n",
    "        return e\n",
    "\n",
    "# temp=extracting_attributes(\"./done/adder6.txt\")\n",
    "# temp"
   ]
  },
  {
   "cell_type": "code",
   "execution_count": 22,
   "metadata": {},
   "outputs": [
    {
     "name": "stdout",
     "output_type": "stream",
     "text": [
      "Loaded 164 Verilog files.\n",
      "164\n"
     ]
    }
   ],
   "source": [
    "class VerilogDataset(Dataset):  # Using Dataset from torch_geometric\n",
    "    def __init__(self, verilog_files):\n",
    "        print(f\"Loaded {len(verilog_files)} Verilog files.\")\n",
    "        self.verilog_files = verilog_files\n",
    "\n",
    "    def __len__(self):\n",
    "        return len(self.verilog_files)\n",
    "\n",
    "    def __getitem__(self, idx):\n",
    "        verilog_file = self.verilog_files[idx]\n",
    "        data = extracting_attributes(verilog_file)\n",
    "        return data\n",
    "\n",
    "dataset = VerilogDataset(verilog_files)\n",
    "print(len(dataset))"
   ]
  },
  {
   "cell_type": "code",
   "execution_count": 23,
   "metadata": {},
   "outputs": [
    {
     "name": "stdout",
     "output_type": "stream",
     "text": [
      "Data(x=[165, 22], edge_index=[2, 208], y=[1, 9], batch=[165])\n",
      "done\\adder11.txt\n",
      "done\\adder11.txt\n"
     ]
    }
   ],
   "source": [
    "print(dataset[0])\n",
    "print(verilog_files[0])\n",
    "print(dataset.verilog_files[0])"
   ]
  },
  {
   "cell_type": "code",
   "execution_count": 24,
   "metadata": {},
   "outputs": [
    {
     "name": "stdout",
     "output_type": "stream",
     "text": [
      "All data objects are unique.\n"
     ]
    }
   ],
   "source": [
    "def are_all_data_objects_unique(dataset):\n",
    "    data_objects = []\n",
    "    for data in dataset:\n",
    "        if data in data_objects:\n",
    "            return False\n",
    "        data_objects.append(data)\n",
    "    return True\n",
    "\n",
    "# Example usage:\n",
    "is_unique = are_all_data_objects_unique(dataset)\n",
    "if is_unique:\n",
    "    print(\"All data objects are unique.\")\n",
    "else:\n",
    "    print(\"Duplicate data objects found.\")\n"
   ]
  },
  {
   "cell_type": "code",
   "execution_count": 25,
   "metadata": {},
   "outputs": [
    {
     "data": {
      "text/plain": [
       "'done\\\\sub9.txt'"
      ]
     },
     "execution_count": 25,
     "metadata": {},
     "output_type": "execute_result"
    }
   ],
   "source": [
    "num = random.randint(0, len(verilog_files))\n",
    "verilog_files[num]"
   ]
  },
  {
   "cell_type": "code",
   "execution_count": 26,
   "metadata": {},
   "outputs": [
    {
     "name": "stdout",
     "output_type": "stream",
     "text": [
      "16\n"
     ]
    },
    {
     "data": {
      "image/png": "[encoded data removed]",
      "text/plain": [
       "<Figure size 640x480 with 1 Axes>"
      ]
     },
     "metadata": {},
     "output_type": "display_data"
    }
   ],
   "source": [
    "data = dataset[num]\n",
    "data\n",
    "\n",
    "g = nx.Graph()\n",
    "g.add_nodes_from(range(data.num_nodes))\n",
    "edges = data.edge_index.t().tolist()\n",
    "# edge_attrs = {tuple(edge): attr.item() for edge, attr in zip(edges, data.edge_attr)}\n",
    "g.add_edges_from(edges)\n",
    "print(len(edges))\n",
    "\n",
    "# Draw the graph with edge attributes\n",
    "pos = nx.spring_layout(g)  # positions for all nodes\n",
    "nx.draw(g, pos, with_labels=True, node_color='skyblue', node_size=1500, edge_color='k', linewidths=1, font_size=15)\n",
    "nx.draw_networkx_edge_labels(g, pos, font_color='red', font_size=12)  # Add edge labels\n",
    "plt.show()"
   ]
  },
  {
   "cell_type": "code",
   "execution_count": 27,
   "metadata": {},
   "outputs": [
    {
     "name": "stdout",
     "output_type": "stream",
     "text": [
      "min_num_nodes: 4\n",
      "max_num_nodes: 165\n",
      "mean_num_nodes: 21.76829268292683\n",
      "min_num_edges: 3\n",
      "max_num_edges: 208\n",
      "mean_num_edges: 28.341463414634145\n",
      "mean nodes degree: 1.3019607843137253\n"
     ]
    }
   ],
   "source": [
    "def graph_stat(dataset):\n",
    "    \"\"\"\n",
    "    TODO: calculate the statistics of the ENZYMES dataset.\n",
    "    \n",
    "    Outputs:\n",
    "        min_num_nodes: min number of nodes\n",
    "        max_num_nodes: max number of nodes\n",
    "        mean_num_nodes: average number of nodes\n",
    "        min_num_edges: min number of edges\n",
    "        max_num_edges: max number of edges\n",
    "        mean_num_edges: average number of edges\n",
    "    \"\"\"\n",
    "    # for ind,data in enumerate(dataset):\n",
    "        # print(verilog_files[ind])\n",
    "        # print(data)\n",
    "        # print(len(data.x[1]))\n",
    "        \n",
    "    nodes_edges = [(data.num_nodes, data.num_edges) for data in dataset]\n",
    "    num_nodes, num_edges = list(list(zip(*nodes_edges))[0]), list(list(zip(*nodes_edges))[1])\n",
    "    min_num_nodes = min(num_nodes)\n",
    "    max_num_nodes = max(num_nodes)\n",
    "    mean_num_nodes = np.mean(num_nodes)\n",
    "    min_num_edges = min(num_edges)\n",
    "    max_num_edges = max(num_edges)\n",
    "    mean_num_edges = np.mean(num_edges)\n",
    "    mean_degree = (mean_num_edges)/mean_num_nodes\n",
    "    \n",
    "    print(f\"min_num_nodes: {min_num_nodes}\")\n",
    "    print(f\"max_num_nodes: {max_num_nodes}\")\n",
    "    print(f\"mean_num_nodes: {mean_num_nodes}\")\n",
    "    print(f\"min_num_edges: {min_num_edges}\")\n",
    "    print(f\"max_num_edges: {max_num_edges}\")\n",
    "    print(f\"mean_num_edges: {mean_num_edges}\")\n",
    "    print(f\"mean nodes degree: {mean_degree}\")\n",
    "\n",
    "graph_stat(dataset)"
   ]
  },
  {
   "cell_type": "code",
   "execution_count": 28,
   "metadata": {},
   "outputs": [],
   "source": [
    "def custom_collate(batch):\n",
    "    if isinstance(batch[0], Data):\n",
    "        return batch\n",
    "    else:\n",
    "        return default_collate(batch)\n",
    "    \n"
   ]
  },
  {
   "cell_type": "code",
   "execution_count": 29,
   "metadata": {},
   "outputs": [
    {
     "data": {
      "text/plain": [
       "tensor([[1., 0., 0., 0., 0., 0., 0., 0., 0.]])"
      ]
     },
     "execution_count": 29,
     "metadata": {},
     "output_type": "execute_result"
    }
   ],
   "source": [
    "dataset[0].y"
   ]
  },
  {
   "cell_type": "code",
   "execution_count": 30,
   "metadata": {},
   "outputs": [],
   "source": [
    "# from torch.utils.data import random_split\n",
    "\n",
    "# # Define the sizes of training, validation, and test sets\n",
    "# train_size = int(0.7 * len(dataset))  # 70% of the data for training\n",
    "# val_size = int(0.15 * len(dataset))   # 15% of the data for validation\n",
    "# test_size = len(dataset) - train_size - val_size  # Remaining data for testing\n",
    "\n",
    "# # Split the dataset into training, validation, and test sets\n",
    "# train_dataset, val_dataset, test_dataset = random_split(dataset, [train_size, val_size, test_size])\n",
    "\n",
    "# # Create DataLoader for each set\n",
    "# train_dataloader = DataLoader(train_dataset, batch_size=32, shuffle=True)\n",
    "# val_dataloader = DataLoader(val_dataset, batch_size=32)\n",
    "# test_dataloader = DataLoader(test_dataset, batch_size=32)\n",
    "\n",
    "\n",
    "# Define the size of the training set (e.g., 70% of the data)\n",
    "train_size = int(0.7 * len(dataset))\n",
    "\n",
    "# Calculate the size of the testing set\n",
    "test_size = len(dataset) - train_size\n",
    "\n",
    "# Split the dataset into training and testing sets\n",
    "train_dataset, test_dataset = random_split(dataset, [train_size, test_size])\n",
    "\n",
    "# Create DataLoader for each set\n",
    "train_loader = DataLoader(train_dataset, batch_size=16, shuffle=True, collate_fn=custom_collate)\n",
    "test_loader = DataLoader(test_dataset, batch_size=16, collate_fn=custom_collate)\n"
   ]
  },
  {
   "cell_type": "code",
   "execution_count": 31,
   "metadata": {},
   "outputs": [
    {
     "name": "stdout",
     "output_type": "stream",
     "text": [
      "Data(x=[16, 22], edge_index=[2, 15], y=[1, 9], batch=[16])\n"
     ]
    }
   ],
   "source": [
    "# len(train_loader.dataset)\n",
    "print(train_loader.dataset[0])"
   ]
  },
  {
   "cell_type": "code",
   "execution_count": 32,
   "metadata": {},
   "outputs": [],
   "source": [
    "loader_iter = iter(train_loader)\n",
    "batch = next(loader_iter)\n",
    "# print(batch)\n",
    "# print(batch.num_graphs)"
   ]
  },
  {
   "cell_type": "code",
   "execution_count": 33,
   "metadata": {},
   "outputs": [],
   "source": [
    "# class GCNConv(torch.nn.Module):\n",
    "#     def __init__(self, in_channels, out_channels):\n",
    "#         super(GCNConv, self).__init__()\n",
    "#         self.theta = nn.Parameter(torch.FloatTensor(in_channels, out_channels))\n",
    "#         # Initialize the parameters.\n",
    "#         stdv = 1. / math.sqrt(out_channels)\n",
    "#         self.theta.data.uniform_(-stdv, stdv)\n",
    "    \n",
    "#     def forward(self, x, edge_index):\n",
    "#         \"\"\"\n",
    "#         TODO:\n",
    "#             1. Generate the adjacency matrix with self-loop \\hat{A} using edge_index.\n",
    "#             2. Calculate the diagonal degree matrix \\hat{D}.\n",
    "#             3. Calculate the output X' with torch.mm using the equation above.\n",
    "#         \"\"\"\n",
    "\n",
    "#         num_nodes = x.shape[0]\n",
    "#         A = torch.sparse_coo_tensor(edge_index, torch.ones(edge_index.shape[1]), (num_nodes, num_nodes))\n",
    "#         A = A.to_dense()\n",
    "#         A_hat = A + torch.eye(num_nodes)\n",
    "        \n",
    "#         A_sum = torch.sum(A_hat, dim=1)\n",
    "#         D = torch.pow(A_sum, -0.5)\n",
    "#         D[D == float('inf')] = 0.0\n",
    "#         D_hat_sqrt = torch.diag(D)\n",
    "        \n",
    "#         first = torch.mm(torch.mm(D_hat_sqrt, A_hat), D_hat_sqrt)\n",
    "#         second = torch.mm(x, self.theta)\n",
    "        \n",
    "#         ret = torch.mm(first, second)\n",
    "        \n",
    "#         return ret"
   ]
  },
  {
   "cell_type": "code",
   "execution_count": 36,
   "metadata": {},
   "outputs": [
    {
     "data": {
      "text/plain": [
       "GCN(\n",
       "  (gcn1): GCNConv(22, 64)\n",
       "  (r1): ReLU()\n",
       "  (gcn2): GCNConv(64, 128)\n",
       "  (r2): ReLU()\n",
       "  (gcn3): GCNConv(128, 128)\n",
       "  (linear): Linear(in_features=128, out_features=9, bias=True)\n",
       ")"
      ]
     },
     "execution_count": 36,
     "metadata": {},
     "output_type": "execute_result"
    }
   ],
   "source": [
    "# from torch_geometric.nn import GCNConv\n",
    "class GCN(torch.nn.Module):\n",
    "    def __init__(self):\n",
    "        super(GCN, self).__init__()\n",
    "        \"\"\"\n",
    "        TODO:\n",
    "            1. Define the first convolution layer using `GCNConv()`. Set `out_channels` to 64;\n",
    "            2. Define the first activation layer using `nn.ReLU()`;\n",
    "            3. Define the second convolution layer using `GCNConv()`. Set `out_channels` to 64;\n",
    "            4. Define the second activation layer using `nn.ReLU()`;\n",
    "            5. Define the third convolution layer using `GCNConv()`. Set `out_channels` to 64;\n",
    "            6. Define the dropout layer using `nn.Dropout()`;\n",
    "\n",
    "        \"\"\"\n",
    "        \n",
    "        num_node_features = 22\n",
    "        num_output_classes = 9\n",
    "        \n",
    "        # num_channels = 32\n",
    "        \n",
    "        self.gcn1 = GCNConv(num_node_features, 64)\n",
    "        self.r1 = nn.ReLU()\n",
    "        self.gcn2 = GCNConv(64, 128)\n",
    "        self.r2 = nn.ReLU()\n",
    "        self.gcn3 = GCNConv(128, 128)\n",
    "        # self.r3 = nn.ReLU()\n",
    "        # self.gcn4 = GCNConv(128, 128)\n",
    "        self.linear = nn.Linear(in_features=128, out_features=num_output_classes)\n",
    "\n",
    "    def forward(self, x, edge_index, batch):\n",
    "    \n",
    "        x = self.gcn1(x, edge_index)\n",
    "        x = self.r1(x)\n",
    "        x = self.gcn2(x, edge_index)\n",
    "        x = self.r2(x)\n",
    "        x = self.gcn3(x, edge_index)\n",
    "        # x = self.r3(x)\n",
    "        # x = self.gcn4(x, edge_index)\n",
    "        x = global_mean_pool(x, batch)\n",
    "        \n",
    "        x = F.dropout(x, p = 0.5, training=self.training)\n",
    "        x = self.linear(x)\n",
    "        \n",
    "        probs = F.log_softmax(x, dim=-1)\n",
    "        \n",
    "        return probs\n",
    "        \n",
    "        \n",
    "        \n",
    "        # KNN\n",
    "        # embeddings\n",
    "        # PCA\n",
    "GCN()"
   ]
  },
  {
   "cell_type": "code",
   "execution_count": 37,
   "metadata": {},
   "outputs": [
    {
     "name": "stdout",
     "output_type": "stream",
     "text": [
      "Epoch: 001, Train Acc: 0.2632, Test Acc: 0.2200\n",
      "Epoch: 002, Train Acc: 0.2018, Test Acc: 0.1800\n",
      "Epoch: 003, Train Acc: 0.2105, Test Acc: 0.1600\n",
      "Epoch: 004, Train Acc: 0.2632, Test Acc: 0.1800\n",
      "Epoch: 005, Train Acc: 0.3158, Test Acc: 0.2200\n",
      "Epoch: 006, Train Acc: 0.3509, Test Acc: 0.3000\n",
      "Epoch: 007, Train Acc: 0.4035, Test Acc: 0.3400\n",
      "Epoch: 008, Train Acc: 0.4035, Test Acc: 0.3600\n",
      "Epoch: 009, Train Acc: 0.4298, Test Acc: 0.2400\n",
      "Epoch: 010, Train Acc: 0.5614, Test Acc: 0.3400\n",
      "Epoch: 011, Train Acc: 0.5263, Test Acc: 0.3000\n",
      "Epoch: 012, Train Acc: 0.5088, Test Acc: 0.3200\n",
      "Epoch: 013, Train Acc: 0.5877, Test Acc: 0.3200\n",
      "Epoch: 014, Train Acc: 0.5877, Test Acc: 0.2800\n",
      "Epoch: 015, Train Acc: 0.5965, Test Acc: 0.4000\n",
      "Epoch: 016, Train Acc: 0.6404, Test Acc: 0.3800\n",
      "Epoch: 017, Train Acc: 0.6140, Test Acc: 0.4000\n",
      "Epoch: 018, Train Acc: 0.6754, Test Acc: 0.3800\n",
      "Epoch: 019, Train Acc: 0.6579, Test Acc: 0.4000\n",
      "Epoch: 020, Train Acc: 0.6842, Test Acc: 0.4000\n",
      "Epoch: 021, Train Acc: 0.7018, Test Acc: 0.4000\n",
      "Epoch: 022, Train Acc: 0.7105, Test Acc: 0.4000\n",
      "Epoch: 023, Train Acc: 0.6754, Test Acc: 0.4600\n",
      "Epoch: 024, Train Acc: 0.6667, Test Acc: 0.4800\n",
      "Epoch: 025, Train Acc: 0.7193, Test Acc: 0.4400\n",
      "Epoch: 026, Train Acc: 0.6842, Test Acc: 0.4600\n",
      "Epoch: 027, Train Acc: 0.6930, Test Acc: 0.5000\n",
      "Epoch: 028, Train Acc: 0.7193, Test Acc: 0.4000\n",
      "Epoch: 029, Train Acc: 0.7807, Test Acc: 0.4400\n",
      "Epoch: 030, Train Acc: 0.7807, Test Acc: 0.4800\n",
      "Epoch: 031, Train Acc: 0.7807, Test Acc: 0.5400\n",
      "Epoch: 032, Train Acc: 0.7982, Test Acc: 0.4600\n",
      "Epoch: 033, Train Acc: 0.7719, Test Acc: 0.4600\n",
      "Epoch: 034, Train Acc: 0.7368, Test Acc: 0.4600\n",
      "Epoch: 035, Train Acc: 0.7632, Test Acc: 0.5000\n",
      "Epoch: 036, Train Acc: 0.7544, Test Acc: 0.5200\n",
      "Epoch: 037, Train Acc: 0.8070, Test Acc: 0.5000\n",
      "Epoch: 038, Train Acc: 0.7982, Test Acc: 0.5000\n",
      "Epoch: 039, Train Acc: 0.7368, Test Acc: 0.3800\n",
      "Epoch: 040, Train Acc: 0.7895, Test Acc: 0.4400\n",
      "Epoch: 041, Train Acc: 0.8070, Test Acc: 0.6200\n",
      "Epoch: 042, Train Acc: 0.7807, Test Acc: 0.4800\n",
      "Epoch: 043, Train Acc: 0.7982, Test Acc: 0.5000\n",
      "Epoch: 044, Train Acc: 0.7982, Test Acc: 0.5200\n",
      "Epoch: 045, Train Acc: 0.8421, Test Acc: 0.4800\n",
      "Epoch: 046, Train Acc: 0.8333, Test Acc: 0.5200\n",
      "Epoch: 047, Train Acc: 0.8070, Test Acc: 0.5600\n",
      "Epoch: 048, Train Acc: 0.8333, Test Acc: 0.5200\n",
      "Epoch: 049, Train Acc: 0.8333, Test Acc: 0.4800\n",
      "Epoch: 050, Train Acc: 0.8246, Test Acc: 0.4800\n",
      "Epoch: 051, Train Acc: 0.8421, Test Acc: 0.4600\n",
      "Epoch: 052, Train Acc: 0.8070, Test Acc: 0.5600\n",
      "Epoch: 053, Train Acc: 0.8158, Test Acc: 0.5400\n",
      "Epoch: 054, Train Acc: 0.8333, Test Acc: 0.5800\n",
      "Epoch: 055, Train Acc: 0.8421, Test Acc: 0.5400\n",
      "Epoch: 056, Train Acc: 0.8509, Test Acc: 0.5400\n",
      "Epoch: 057, Train Acc: 0.8333, Test Acc: 0.5600\n",
      "Epoch: 058, Train Acc: 0.8246, Test Acc: 0.6000\n",
      "Epoch: 059, Train Acc: 0.8509, Test Acc: 0.6000\n",
      "Epoch: 060, Train Acc: 0.7982, Test Acc: 0.4600\n",
      "Epoch: 061, Train Acc: 0.8596, Test Acc: 0.5200\n",
      "Epoch: 062, Train Acc: 0.8509, Test Acc: 0.5800\n",
      "Epoch: 063, Train Acc: 0.7895, Test Acc: 0.4800\n",
      "Epoch: 064, Train Acc: 0.8596, Test Acc: 0.5600\n",
      "Epoch: 065, Train Acc: 0.8684, Test Acc: 0.5600\n",
      "Epoch: 066, Train Acc: 0.8596, Test Acc: 0.5800\n",
      "Epoch: 067, Train Acc: 0.8684, Test Acc: 0.6000\n",
      "Epoch: 068, Train Acc: 0.8684, Test Acc: 0.6000\n",
      "Epoch: 069, Train Acc: 0.8333, Test Acc: 0.6000\n",
      "Epoch: 070, Train Acc: 0.8772, Test Acc: 0.5800\n",
      "Epoch: 071, Train Acc: 0.8509, Test Acc: 0.5800\n",
      "Epoch: 072, Train Acc: 0.8684, Test Acc: 0.5800\n",
      "Epoch: 073, Train Acc: 0.8596, Test Acc: 0.5600\n",
      "Epoch: 074, Train Acc: 0.8684, Test Acc: 0.6200\n",
      "Epoch: 075, Train Acc: 0.8596, Test Acc: 0.6000\n",
      "Epoch: 076, Train Acc: 0.8860, Test Acc: 0.6200\n",
      "Epoch: 077, Train Acc: 0.8596, Test Acc: 0.5800\n",
      "Epoch: 078, Train Acc: 0.8333, Test Acc: 0.6000\n",
      "Epoch: 079, Train Acc: 0.8596, Test Acc: 0.5800\n",
      "Epoch: 080, Train Acc: 0.8860, Test Acc: 0.5600\n",
      "Epoch: 081, Train Acc: 0.8596, Test Acc: 0.5400\n",
      "Epoch: 082, Train Acc: 0.8860, Test Acc: 0.6000\n",
      "Epoch: 083, Train Acc: 0.8684, Test Acc: 0.6000\n",
      "Epoch: 084, Train Acc: 0.8860, Test Acc: 0.5800\n",
      "Epoch: 085, Train Acc: 0.9035, Test Acc: 0.6200\n",
      "Epoch: 086, Train Acc: 0.8684, Test Acc: 0.5800\n",
      "Epoch: 087, Train Acc: 0.8947, Test Acc: 0.5800\n",
      "Epoch: 088, Train Acc: 0.8860, Test Acc: 0.6000\n",
      "Epoch: 089, Train Acc: 0.8860, Test Acc: 0.5600\n",
      "Epoch: 090, Train Acc: 0.8947, Test Acc: 0.6000\n",
      "Epoch: 091, Train Acc: 0.8596, Test Acc: 0.5200\n",
      "Epoch: 092, Train Acc: 0.9035, Test Acc: 0.6000\n",
      "Epoch: 093, Train Acc: 0.8947, Test Acc: 0.5800\n",
      "Epoch: 094, Train Acc: 0.8947, Test Acc: 0.5800\n",
      "Epoch: 095, Train Acc: 0.8772, Test Acc: 0.6000\n",
      "Epoch: 096, Train Acc: 0.9035, Test Acc: 0.6400\n",
      "Epoch: 097, Train Acc: 0.8684, Test Acc: 0.6200\n",
      "Epoch: 098, Train Acc: 0.9035, Test Acc: 0.6000\n",
      "Epoch: 099, Train Acc: 0.8947, Test Acc: 0.6400\n",
      "Epoch: 100, Train Acc: 0.8947, Test Acc: 0.6200\n",
      "Epoch: 101, Train Acc: 0.8421, Test Acc: 0.5600\n",
      "Epoch: 102, Train Acc: 0.9123, Test Acc: 0.6000\n",
      "Epoch: 103, Train Acc: 0.8596, Test Acc: 0.5800\n",
      "Epoch: 104, Train Acc: 0.8070, Test Acc: 0.6000\n",
      "Epoch: 105, Train Acc: 0.8772, Test Acc: 0.6200\n",
      "Epoch: 106, Train Acc: 0.9035, Test Acc: 0.6400\n",
      "Epoch: 107, Train Acc: 0.8772, Test Acc: 0.6600\n",
      "Epoch: 108, Train Acc: 0.9035, Test Acc: 0.6200\n",
      "Epoch: 109, Train Acc: 0.9123, Test Acc: 0.6200\n",
      "Epoch: 110, Train Acc: 0.8772, Test Acc: 0.6200\n",
      "Epoch: 111, Train Acc: 0.9123, Test Acc: 0.5600\n",
      "Epoch: 112, Train Acc: 0.9035, Test Acc: 0.6400\n",
      "Epoch: 113, Train Acc: 0.9123, Test Acc: 0.6400\n",
      "Epoch: 114, Train Acc: 0.9035, Test Acc: 0.6600\n",
      "Epoch: 115, Train Acc: 0.9035, Test Acc: 0.6200\n",
      "Epoch: 116, Train Acc: 0.8947, Test Acc: 0.6400\n",
      "Epoch: 117, Train Acc: 0.8860, Test Acc: 0.6800\n",
      "Epoch: 118, Train Acc: 0.8860, Test Acc: 0.6400\n",
      "Epoch: 119, Train Acc: 0.8947, Test Acc: 0.6400\n",
      "Epoch: 120, Train Acc: 0.9123, Test Acc: 0.6200\n",
      "Epoch: 121, Train Acc: 0.8947, Test Acc: 0.6400\n",
      "Epoch: 122, Train Acc: 0.9211, Test Acc: 0.6000\n",
      "Epoch: 123, Train Acc: 0.8772, Test Acc: 0.6400\n",
      "Epoch: 124, Train Acc: 0.9123, Test Acc: 0.6400\n",
      "Epoch: 125, Train Acc: 0.8860, Test Acc: 0.6400\n",
      "Epoch: 126, Train Acc: 0.8596, Test Acc: 0.6000\n",
      "Epoch: 127, Train Acc: 0.9123, Test Acc: 0.6600\n",
      "Epoch: 128, Train Acc: 0.9035, Test Acc: 0.6600\n",
      "Epoch: 129, Train Acc: 0.9035, Test Acc: 0.6200\n",
      "Epoch: 130, Train Acc: 0.8421, Test Acc: 0.7200\n",
      "Epoch: 131, Train Acc: 0.8772, Test Acc: 0.6600\n",
      "Epoch: 132, Train Acc: 0.9211, Test Acc: 0.6200\n",
      "Epoch: 133, Train Acc: 0.9123, Test Acc: 0.6400\n",
      "Epoch: 134, Train Acc: 0.9123, Test Acc: 0.6400\n",
      "Epoch: 135, Train Acc: 0.9211, Test Acc: 0.6600\n",
      "Epoch: 136, Train Acc: 0.8509, Test Acc: 0.6000\n",
      "Epoch: 137, Train Acc: 0.8947, Test Acc: 0.6400\n",
      "Epoch: 138, Train Acc: 0.9123, Test Acc: 0.6400\n",
      "Epoch: 139, Train Acc: 0.9123, Test Acc: 0.6200\n",
      "Epoch: 140, Train Acc: 0.8509, Test Acc: 0.6400\n",
      "Epoch: 141, Train Acc: 0.8860, Test Acc: 0.6200\n",
      "Epoch: 142, Train Acc: 0.9123, Test Acc: 0.6600\n",
      "Epoch: 143, Train Acc: 0.9211, Test Acc: 0.6400\n",
      "Epoch: 144, Train Acc: 0.9035, Test Acc: 0.6600\n",
      "Epoch: 145, Train Acc: 0.9035, Test Acc: 0.6400\n",
      "Epoch: 146, Train Acc: 0.8947, Test Acc: 0.6000\n",
      "Epoch: 147, Train Acc: 0.9298, Test Acc: 0.6000\n",
      "Epoch: 148, Train Acc: 0.8947, Test Acc: 0.6400\n",
      "Epoch: 149, Train Acc: 0.9123, Test Acc: 0.6200\n",
      "Epoch: 150, Train Acc: 0.9211, Test Acc: 0.6400\n",
      "Epoch: 151, Train Acc: 0.8246, Test Acc: 0.6600\n",
      "Epoch: 152, Train Acc: 0.9298, Test Acc: 0.6400\n",
      "Epoch: 153, Train Acc: 0.8684, Test Acc: 0.5800\n",
      "Epoch: 154, Train Acc: 0.9298, Test Acc: 0.6600\n",
      "Epoch: 155, Train Acc: 0.9386, Test Acc: 0.6400\n",
      "Epoch: 156, Train Acc: 0.8860, Test Acc: 0.6400\n",
      "Epoch: 157, Train Acc: 0.9386, Test Acc: 0.5800\n",
      "Epoch: 158, Train Acc: 0.9298, Test Acc: 0.6400\n",
      "Epoch: 159, Train Acc: 0.9386, Test Acc: 0.6600\n",
      "Epoch: 160, Train Acc: 0.9211, Test Acc: 0.6600\n",
      "Epoch: 161, Train Acc: 0.9211, Test Acc: 0.6200\n",
      "Epoch: 162, Train Acc: 0.8947, Test Acc: 0.5800\n",
      "Epoch: 163, Train Acc: 0.9123, Test Acc: 0.6600\n",
      "Epoch: 164, Train Acc: 0.8860, Test Acc: 0.6800\n",
      "Epoch: 165, Train Acc: 0.8947, Test Acc: 0.6000\n",
      "Epoch: 166, Train Acc: 0.9211, Test Acc: 0.5800\n",
      "Epoch: 167, Train Acc: 0.9035, Test Acc: 0.6200\n",
      "Epoch: 168, Train Acc: 0.8596, Test Acc: 0.6000\n",
      "Epoch: 169, Train Acc: 0.8772, Test Acc: 0.6200\n",
      "Epoch: 170, Train Acc: 0.9386, Test Acc: 0.6000\n",
      "Epoch: 171, Train Acc: 0.9386, Test Acc: 0.6600\n",
      "Epoch: 172, Train Acc: 0.9386, Test Acc: 0.6600\n",
      "Epoch: 173, Train Acc: 0.8947, Test Acc: 0.6000\n",
      "Epoch: 174, Train Acc: 0.8860, Test Acc: 0.6000\n",
      "Epoch: 175, Train Acc: 0.9211, Test Acc: 0.6800\n",
      "Epoch: 176, Train Acc: 0.9298, Test Acc: 0.6600\n",
      "Epoch: 177, Train Acc: 0.9035, Test Acc: 0.6400\n",
      "Epoch: 178, Train Acc: 0.9123, Test Acc: 0.6400\n",
      "Epoch: 179, Train Acc: 0.9123, Test Acc: 0.6400\n",
      "Epoch: 180, Train Acc: 0.9211, Test Acc: 0.6800\n",
      "Epoch: 181, Train Acc: 0.8947, Test Acc: 0.6600\n",
      "Epoch: 182, Train Acc: 0.9035, Test Acc: 0.6800\n",
      "Epoch: 183, Train Acc: 0.8947, Test Acc: 0.6200\n",
      "Epoch: 184, Train Acc: 0.9211, Test Acc: 0.6600\n",
      "Epoch: 185, Train Acc: 0.9123, Test Acc: 0.6400\n",
      "Epoch: 186, Train Acc: 0.8947, Test Acc: 0.6400\n",
      "Epoch: 187, Train Acc: 0.9298, Test Acc: 0.6600\n",
      "Epoch: 188, Train Acc: 0.9211, Test Acc: 0.6400\n",
      "Epoch: 189, Train Acc: 0.9123, Test Acc: 0.6600\n",
      "Epoch: 190, Train Acc: 0.9123, Test Acc: 0.6800\n",
      "Epoch: 191, Train Acc: 0.9035, Test Acc: 0.6600\n",
      "Epoch: 192, Train Acc: 0.9386, Test Acc: 0.6600\n",
      "Epoch: 193, Train Acc: 0.9123, Test Acc: 0.6200\n",
      "Epoch: 194, Train Acc: 0.9298, Test Acc: 0.7000\n",
      "Epoch: 195, Train Acc: 0.8772, Test Acc: 0.6000\n",
      "Epoch: 196, Train Acc: 0.9211, Test Acc: 0.6200\n",
      "Epoch: 197, Train Acc: 0.9298, Test Acc: 0.6600\n",
      "Epoch: 198, Train Acc: 0.9123, Test Acc: 0.6400\n",
      "Epoch: 199, Train Acc: 0.9386, Test Acc: 0.6600\n",
      "Epoch: 200, Train Acc: 0.9298, Test Acc: 0.6600\n",
      "Training duration: 408.0193684101105 seconds\n"
     ]
    }
   ],
   "source": [
    "\n",
    "\n",
    "device = torch.device('cuda' if torch.cuda.is_available() else 'cpu')\n",
    "gcn = GCN()\n",
    "gcn = gcn.to(device)\n",
    "# print(gcn.parameters())\n",
    "# optimizer\n",
    "optimizer = torch.optim.Adam(gcn.parameters(), lr=0.001, weight_decay=5e-4)\n",
    "# loss\n",
    "criterion = torch.nn.CrossEntropyLoss()\n",
    "\n",
    "out_labels = []\n",
    "\n",
    "# training_running_loss = 0.0\n",
    "\n",
    "def train(train_loader):\n",
    "    \n",
    "    gcn.train()\n",
    "    # print(gcn.parameters())\n",
    "    for batch_data in train_loader:  # Iterate in batches over the training dataset.\n",
    "        for data in batch_data:\n",
    "            \n",
    "            optimizer.zero_grad()\n",
    "            data = data.to(device)\n",
    "            #forward pass\n",
    "            out = gcn(data.x, data.edge_index, data.batch)\n",
    "            # calculate the loss\n",
    "            loss = criterion(out, data.y)\n",
    "            # zero the gradients of the weights so that the gradients are not accumulated\n",
    "            # calculate the gradients using backpropagation\n",
    "            loss.backward()\n",
    "            # update the weights\n",
    "            optimizer.step()\n",
    "            \n",
    "            # calculate the loss\n",
    "            # training_running_loss += loss.detach().item()\n",
    "            \n",
    "            out_labels.append((out, data.y))\n",
    "        \n",
    "        \n",
    "\n",
    "testing_labels = []\n",
    "def test(loader):\n",
    "    gcn.eval()\n",
    "    correct = 0\n",
    "    for batch_data in loader:  # Iterate in batches over the training/test dataset.\n",
    "        for data in batch_data:\n",
    "            out = gcn(data.x, data.edge_index, data.batch)  \n",
    "            pred = out.argmax(dim=1)  # Use the class with highest probability.\n",
    "            testing_labels.append(pred)\n",
    "            y_label = (data.y.tolist())\n",
    "            y_label = y_label[0].index(1.0)\n",
    "            pred_label = (pred.tolist())[0]\n",
    "            # print(pred_label)\n",
    "            # print(y_label)\n",
    "            if y_label == pred_label:\n",
    "                correct += 1            \n",
    "            # correct += int((pred == data.y).sum())  # Check against ground-truth labels.\n",
    "    return correct / len(loader.dataset)  # Derive ratio of correct predictions.\n",
    "\n",
    "\n",
    "# Start the timer\n",
    "start_time = time.time()\n",
    "\n",
    "num_epochs = 200\n",
    "# Your training code here\n",
    "for epoch in range(num_epochs):\n",
    "    train(train_loader)\n",
    "    train_acc = test(train_loader)\n",
    "    test_acc = test(test_loader)\n",
    "    print(f'Epoch: {epoch + 1:03d}, Train Acc: {train_acc:.4f}, Test Acc: {test_acc:.4f}')\n",
    "    \n",
    "\n",
    "\n",
    "\n",
    "# End the timer\n",
    "end_time = time.time()\n",
    "\n",
    "# Calculate the duration\n",
    "duration = end_time - start_time\n",
    "print(\"Training duration:\", duration, \"seconds\")\n",
    "# with open(\"out_labels.txt\", \"w\") as output:\n",
    "#         output.write(str(out_labels))"
   ]
  },
  {
   "cell_type": "code",
   "execution_count": 128,
   "metadata": {},
   "outputs": [
    {
     "data": {
      "text/plain": [
       "0.6195652173913043"
      ]
     },
     "execution_count": 128,
     "metadata": {},
     "output_type": "execute_result"
    }
   ],
   "source": [
    "test_acc"
   ]
  },
  {
   "cell_type": "code",
   "execution_count": 38,
   "metadata": {},
   "outputs": [],
   "source": [
    "torch.save(gcn.state_dict(), 'gcn_model93-66-0001-200.pth')"
   ]
  },
  {
   "cell_type": "code",
   "execution_count": 119,
   "metadata": {},
   "outputs": [
    {
     "data": {
      "text/plain": [
       "2"
      ]
     },
     "execution_count": 119,
     "metadata": {},
     "output_type": "execute_result"
    }
   ],
   "source": [
    "len(dataset[0].edge_index)"
   ]
  },
  {
   "cell_type": "code",
   "execution_count": 40,
   "metadata": {},
   "outputs": [
    {
     "data": {
      "text/plain": [
       "{(7, 1): 1,\n",
       " (3, 4): 3,\n",
       " (4, 3): 2,\n",
       " (6, 6): 5,\n",
       " (5, 5): 9,\n",
       " (7, 3): 1,\n",
       " (8, 5): 1,\n",
       " (4, 4): 4,\n",
       " (7, 7): 2,\n",
       " (8, 2): 1,\n",
       " (3, 3): 5,\n",
       " (2, 2): 5,\n",
       " (1, 1): 2,\n",
       " (8, 0): 1,\n",
       " (2, 1): 1,\n",
       " (0, 1): 1,\n",
       " (4, 7): 2,\n",
       " (3, 0): 1,\n",
       " (3, 5): 2,\n",
       " (0, 0): 1}"
      ]
     },
     "execution_count": 40,
     "metadata": {},
     "output_type": "execute_result"
    }
   ],
   "source": [
    "# num = random.randint(0, len(verilog_files))\n",
    "# print(verilog_files[num])\n",
    "output_dict = dict()\n",
    "for data_trial in test_loader.dataset:\n",
    "    \n",
    "    out = gcn(data_trial.x, data_trial.edge_index, data_trial.batch)\n",
    "    pred = out.argmax(dim=1)\n",
    "    \n",
    "    # if pred.tolist()[0] != (data_trial.y.tolist())[0].index(1.0):\n",
    "    output_dict[(pred.tolist()[0], (data_trial.y.tolist())[0].index(1.0))] = output_dict.get((pred.tolist()[0], (data_trial.y.tolist())[0].index(1.0)), 0) +1\n",
    "        # print(pred.tolist())\n",
    "        # print((data_trial.y.tolist())[0].index(1.0))\n",
    "\n",
    "\n",
    "output_dict\n",
    "        "
   ]
  },
  {
   "cell_type": "code",
   "execution_count": 60,
   "metadata": {},
   "outputs": [
    {
     "data": {
      "text/plain": [
       "{(tensor([3]), 0): 1,\n",
       " (tensor([8]), 0): 1,\n",
       " (tensor([8]), 0): 1,\n",
       " (tensor([5]), 0): 1,\n",
       " (tensor([2]), 0): 1,\n",
       " (tensor([3]), 0): 1,\n",
       " (tensor([2]), 1): 1,\n",
       " (tensor([6]), 1): 1,\n",
       " (tensor([2]), 1): 1,\n",
       " (tensor([12]), 9): 1,\n",
       " (tensor([13]), 9): 1,\n",
       " (tensor([5]), 9): 1,\n",
       " (tensor([14]), 9): 1,\n",
       " (tensor([11]), 9): 1,\n",
       " (tensor([15]), 2): 1,\n",
       " (tensor([13]), 2): 1,\n",
       " (tensor([4]), 3): 1,\n",
       " (tensor([5]), 3): 1,\n",
       " (tensor([4]), 3): 1,\n",
       " (tensor([13]), 3): 1,\n",
       " (tensor([4]), 3): 1,\n",
       " (tensor([7]), 4): 1,\n",
       " (tensor([3]), 4): 1,\n",
       " (tensor([9]), 4): 1,\n",
       " (tensor([7]), 4): 1,\n",
       " (tensor([7]), 4): 1,\n",
       " (tensor([7]), 4): 1,\n",
       " (tensor([5]), 4): 1,\n",
       " (tensor([3]), 4): 1,\n",
       " (tensor([3]), 4): 1,\n",
       " (tensor([7]), 4): 1,\n",
       " (tensor([3]), 4): 1,\n",
       " (tensor([10]), 4): 1,\n",
       " (tensor([7]), 4): 1,\n",
       " (tensor([10]), 4): 1,\n",
       " (tensor([3]), 4): 1,\n",
       " (tensor([8]), 5): 1,\n",
       " (tensor([9]), 5): 1,\n",
       " (tensor([3]), 5): 1,\n",
       " (tensor([4]), 5): 1,\n",
       " (tensor([1]), 6): 1,\n",
       " (tensor([7]), 6): 1,\n",
       " (tensor([14]), 13): 1,\n",
       " (tensor([14]), 13): 1,\n",
       " (tensor([5]), 13): 1,\n",
       " (tensor([14]), 13): 1,\n",
       " (tensor([14]), 13): 1,\n",
       " (tensor([14]), 13): 1,\n",
       " (tensor([10]), 14): 1,\n",
       " (tensor([13]), 14): 1,\n",
       " (tensor([13]), 14): 1,\n",
       " (tensor([13]), 10): 1,\n",
       " (tensor([11]), 10): 1,\n",
       " (tensor([11]), 10): 1,\n",
       " (tensor([11]), 10): 1,\n",
       " (tensor([11]), 10): 1,\n",
       " (tensor([14]), 10): 1,\n",
       " (tensor([14]), 10): 1,\n",
       " (tensor([14]), 10): 1,\n",
       " (tensor([14]), 10): 1,\n",
       " (tensor([14]), 10): 1,\n",
       " (tensor([4]), 7): 1,\n",
       " (tensor([10]), 7): 1,\n",
       " (tensor([14]), 7): 1,\n",
       " (tensor([4]), 7): 1,\n",
       " (tensor([6]), 7): 1,\n",
       " (tensor([0]), 8): 1,\n",
       " (tensor([2]), 8): 1,\n",
       " (tensor([5]), 8): 1,\n",
       " (tensor([11]), 15): 1,\n",
       " (tensor([10]), 11): 1,\n",
       " (tensor([10]), 11): 1,\n",
       " (tensor([15]), 11): 1,\n",
       " (tensor([15]), 11): 1,\n",
       " (tensor([15]), 11): 1,\n",
       " (tensor([15]), 11): 1,\n",
       " (tensor([15]), 11): 1,\n",
       " (tensor([15]), 11): 1,\n",
       " (tensor([15]), 11): 1,\n",
       " (tensor([15]), 11): 1}"
      ]
     },
     "execution_count": 60,
     "metadata": {},
     "output_type": "execute_result"
    }
   ],
   "source": [
    "output_dict"
   ]
  },
  {
   "cell_type": "code",
   "execution_count": 17,
   "metadata": {},
   "outputs": [
    {
     "data": {
      "text/plain": [
       "<All keys matched successfully>"
      ]
     },
     "execution_count": 17,
     "metadata": {},
     "output_type": "execute_result"
    }
   ],
   "source": [
    "gcn = GCN()\n",
    "gcn.load_state_dict(torch.load('gcn_model85-59-0001-200.pth'))\n",
    "\n"
   ]
  },
  {
   "cell_type": "code",
   "execution_count": null,
   "metadata": {},
   "outputs": [],
   "source": [
    "# bit and logical \n",
    "\n"
   ]
  },
  {
   "cell_type": "code",
   "execution_count": 46,
   "metadata": {},
   "outputs": [
    {
     "name": "stdout",
     "output_type": "stream",
     "text": [
      "done\\nand2.txt\n",
      "tensor([5])\n",
      "13\n"
     ]
    }
   ],
   "source": [
    "num = random.randint(0, len(verilog_files))\n",
    "print(verilog_files[num])\n",
    "data_trial = dataset[num]\n",
    "\n",
    "\n",
    "\n",
    "out = gcn(data_trial.x, data_trial.edge_index, data_trial.batch)\n",
    "pred = out.argmax(dim=1)\n",
    "print(pred)\n",
    "print((data_trial.y.tolist())[0].index(1.0))"
   ]
  },
  {
   "cell_type": "markdown",
   "metadata": {},
   "source": [
    "## Experiment 1\n"
   ]
  },
  {
   "cell_type": "markdown",
   "metadata": {},
   "source": [
    "### Mode of Operation"
   ]
  },
  {
   "cell_type": "markdown",
   "metadata": {},
   "source": [
    "* 321 verilog files \n",
    "* only 3 features             [type, operation_type, num_of_connections]\n",
    "* no edge attribute\n",
    "* 18 classes \n",
    "* 200 epochs \n",
    "* learning rate = 0.01\n",
    "* Dropoout = 0.4\n",
    "* Adam Optimizer\n",
    "* train 70, test 30 (on whole dataset, not each class)\n",
    "* time of training = seconds\n"
   ]
  },
  {
   "cell_type": "markdown",
   "metadata": {},
   "source": [
    "### Results"
   ]
  },
  {
   "cell_type": "markdown",
   "metadata": {},
   "source": [
    "* Train acc:  0.2902\n",
    "* Test Acc: 0.1959\n"
   ]
  },
  {
   "cell_type": "markdown",
   "metadata": {},
   "source": [
    "### Suggested Modifications for upcoming experiments"
   ]
  },
  {
   "cell_type": "markdown",
   "metadata": {},
   "source": [
    "1) Clean dataset (by removing unnecessay, uninformative or wrong code files)\n",
    "2) remove reduntant parsing (different files but same parsing)\n",
    "3) include more informative features\n",
    "4) improve encoding format\n",
    "5) try using less classes (most important ones, so that less classes but more balanced dataset)\n",
    "6) adding more files\n",
    "7) adjusting hyperparameters such as learning rate, dropout, ...etc\n",
    "8) splitting train, val, test\n",
    "9) using equal percentages of each class (adjusting splitting)"
   ]
  },
  {
   "cell_type": "markdown",
   "metadata": {},
   "source": []
  },
  {
   "cell_type": "markdown",
   "metadata": {},
   "source": [
    "## Experiment 2"
   ]
  },
  {
   "cell_type": "markdown",
   "metadata": {},
   "source": [
    "### Mode of Operation"
   ]
  },
  {
   "cell_type": "markdown",
   "metadata": {},
   "source": [
    "### Results"
   ]
  },
  {
   "cell_type": "markdown",
   "metadata": {},
   "source": [
    "### Suggested Modifications for upcoming experiments"
   ]
  },
  {
   "cell_type": "markdown",
   "metadata": {},
   "source": []
  },
  {
   "cell_type": "markdown",
   "metadata": {},
   "source": [
    "# Experiment 5"
   ]
  },
  {
   "cell_type": "markdown",
   "metadata": {},
   "source": [
    "lr = 0.001\n",
    "\n",
    "droput 0.4\n",
    "\n",
    "314 files\n",
    "\n",
    "17 features (node_type)\n",
    "\n",
    "16 classes\n",
    "\n",
    "conv relu conv relu conv relu conv linear\n",
    "\n",
    "train = 40, test = 27\n",
    "\n",
    "200 epochs\n"
   ]
  },
  {
   "cell_type": "markdown",
   "metadata": {},
   "source": [
    "# experiment 6 "
   ]
  },
  {
   "cell_type": "markdown",
   "metadata": {},
   "source": [
    "same as 5 but 100 epochs"
   ]
  },
  {
   "cell_type": "markdown",
   "metadata": {},
   "source": [
    "train = 43, test = 25"
   ]
  },
  {
   "cell_type": "markdown",
   "metadata": {},
   "source": [
    "# Experiment 7"
   ]
  },
  {
   "cell_type": "markdown",
   "metadata": {},
   "source": [
    "lr = 0.001\n",
    "\n",
    "conv relu conv relu conv dropout linear\n",
    "\n",
    "9 classes\n",
    "\n",
    "164 file\n",
    "\n",
    "train = 34, test = 26"
   ]
  },
  {
   "cell_type": "markdown",
   "metadata": {},
   "source": []
  },
  {
   "cell_type": "markdown",
   "metadata": {},
   "source": [
    "# Experiment 8"
   ]
  },
  {
   "cell_type": "markdown",
   "metadata": {},
   "source": [
    "lr = 0.001\n",
    "\n",
    "9 classes\n",
    "\n",
    "conv relu conv relu conv dropout linear \n",
    "\n",
    "train = 64, test = 52\n",
    "\n",
    "164 \n",
    "\n",
    "17 features (node type)\n"
   ]
  },
  {
   "cell_type": "markdown",
   "metadata": {},
   "source": []
  }
 ],
 "metadata": {
  "kernelspec": {
   "display_name": "base",
   "language": "python",
   "name": "python3"
  },
  "language_info": {
   "codemirror_mode": {
    "name": "ipython",
    "version": 3
   },
   "file_extension": ".py",
   "mimetype": "text/x-python",
   "name": "python",
   "nbconvert_exporter": "python",
   "pygments_lexer": "ipython3",
   "version": "3.9.12"
  }
 },
 "nbformat": 4,
 "nbformat_minor": 2
}
