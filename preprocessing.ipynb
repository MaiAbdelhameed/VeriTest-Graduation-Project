{
 "cells": [
  {
   "cell_type": "code",
   "execution_count": 1,
   "metadata": {},
   "outputs": [],
   "source": [
    "import os\n",
    "import json\n",
    "import re\n",
    "import shutil\n",
    "input_folder = \"encoded\"\n",
    "output_folder = \"done\"\n",
    "import torch\n",
    "import torch.nn.functional as F\n"
   ]
  },
  {
   "cell_type": "code",
   "execution_count": 13,
   "metadata": {},
   "outputs": [
    {
     "name": "stdout",
     "output_type": "stream",
     "text": [
      "164\n",
      "<class 'str'>\n",
      "encoded\\adder11.txt\n"
     ]
    }
   ],
   "source": [
    "# Use list comprehension to create a list of file paths\n",
    "verilog_files = [os.path.join(input_folder, filename) for filename in os.listdir(input_folder) if filename.endswith('.txt')]\n",
    "\n",
    "# Print the list of file paths\n",
    "print(len(verilog_files))\n",
    "print(type(verilog_files[0]))\n",
    "print(verilog_files[0])\n"
   ]
  },
  {
   "cell_type": "code",
   "execution_count": 14,
   "metadata": {},
   "outputs": [
    {
     "name": "stdout",
     "output_type": "stream",
     "text": [
      "tensor([1, 0, 0, 0, 0, 0, 0, 0, 0])\n"
     ]
    }
   ],
   "source": [
    "# ground_truth_labels = [0,1,2,3,4,5,6,7,8,9,10,11,12,13,14,15]\n",
    "ground_truth_labels = [0,1,2,3,4,5,6,7,8]\n",
    "labels_torch = torch.tensor(ground_truth_labels)\n",
    "\n",
    "# One-hot encode the labels\n",
    "one_hot_labels = F.one_hot(labels_torch, num_classes=9)\n",
    "\n",
    "print(one_hot_labels[0])"
   ]
  },
  {
   "cell_type": "code",
   "execution_count": 15,
   "metadata": {},
   "outputs": [],
   "source": [
    "labels_dict = dict()\n",
    "def label_verilog_file(file_name):\n",
    "    label_mapping = {\n",
    "        'adder': 0, 'ALU': 1, 'comparator': 2, 'decoder': 3,\n",
    "        'encoder': 4, 'mult': 5, 'mux': 6, 'pe': 7, 'sub': 8\n",
    "    }\n",
    "    \n",
    "    pattern = r\"([a-zA-Z]+)(\\d+)?\"\n",
    "    match = re.match(pattern, file_name)\n",
    "    if match:\n",
    "        base_name = match.group(1)\n",
    "        if base_name in label_mapping:\n",
    "            labels_dict[(base_name, label_mapping[base_name])] = labels_dict.get((base_name, label_mapping[base_name]), 0) + 1\n",
    "            return one_hot_labels[label_mapping[base_name]].tolist()\n",
    "        \n",
    "    return None\n",
    "\n",
    "def add_label_to_verilog_file(input_file_path, output_folder):\n",
    "    if input_file_path.endswith('.txt'):\n",
    "        with open(input_file_path, \"r\") as file:\n",
    "            loaded_data = json.load(file)\n",
    "            # Convert string elements to integers\n",
    "            temp = []\n",
    "            for sublist in loaded_data[0]:\n",
    "                # int_list = [int(char) for char in sublist[1]]\n",
    "                # temp.append(int_list)\n",
    "                temp.append([sublist[0], sublist[2]])\n",
    "                # sublist.pop(2)\n",
    "                # sublist.pop(1)\n",
    "            loaded_data[0] = temp\n",
    "            label = label_verilog_file(os.path.basename(input_file_path))\n",
    "            if label is not None and [label] not in loaded_data:  # Check if label already exists\n",
    "                loaded_data.append([label])  # Add label as the third list\n",
    "                output_file_path = os.path.join(output_folder, os.path.basename(input_file_path))\n",
    "                with open(output_file_path, \"w\") as output_file:\n",
    "                    json.dump(loaded_data, output_file)\n",
    "                return True\n",
    "    return False\n",
    "\n",
    "\n",
    "\n",
    "# Create the output folder if it doesn't exist\n",
    "if not os.path.exists(output_folder):\n",
    "    os.makedirs(output_folder)\n",
    "\n",
    "# Process files in the input folder\n",
    "for file_name in os.listdir(input_folder):\n",
    "    file_path = os.path.join(input_folder, file_name)\n",
    "    if os.path.isfile(file_path):\n",
    "        if not add_label_to_verilog_file(file_path, output_folder):\n",
    "            print(f\"Failed to label: {file_path}\")\n",
    "\n"
   ]
  },
  {
   "cell_type": "code",
   "execution_count": 17,
   "metadata": {},
   "outputs": [
    {
     "name": "stdout",
     "output_type": "stream",
     "text": [
      "164\n"
     ]
    }
   ],
   "source": [
    "failed_files = []\n",
    "\n",
    "def get_files_in_folder(input_folder):\n",
    "    file_list = []\n",
    "    for file_name in os.listdir(input_folder):\n",
    "        file_path = os.path.join(input_folder, file_name)\n",
    "        if os.path.isfile(file_path):\n",
    "            file_list.append(file_path)\n",
    "    return file_list\n",
    "\n",
    "# Replace 'input_folder' with the path to the folder you want to read files from\n",
    "verilog_files = get_files_in_folder(output_folder)\n",
    "print(len(verilog_files))\n",
    "\n",
    "\n",
    "# for v in verilog_files:\n",
    "#     with open(v, \"r\") as file:\n",
    "#         loaded_data = json.load(file)\n",
    "#         # print(loaded_data[0])\n",
    "        \n",
    "#         for node in loaded_data[0]:\n",
    "#             if len(node) != 4:\n",
    "#                 failed_files.append(v)\n",
    "#                 break\n",
    "            \n",
    "#how to save list in a txt file\n"
   ]
  },
  {
   "cell_type": "markdown",
   "metadata": {},
   "source": [
    "# reduce classes: \n",
    "    -Decoder\n",
    "    -Encoder\n",
    "    -Mux"
   ]
  },
  {
   "cell_type": "code",
   "execution_count": 59,
   "metadata": {},
   "outputs": [
    {
     "name": "stdout",
     "output_type": "stream",
     "text": [
      "[]\n"
     ]
    }
   ],
   "source": [
    "print(failed_files)\n",
    "if failed_files:\n",
    "    with open(\"failed_files.txt\", \"w\") as output:\n",
    "        output.write(str(failed_files))"
   ]
  },
  {
   "cell_type": "markdown",
   "metadata": {},
   "source": [
    "removed seg and bcd classes"
   ]
  },
  {
   "cell_type": "code",
   "execution_count": 18,
   "metadata": {},
   "outputs": [
    {
     "data": {
      "text/plain": [
       "{('adder', 0): 14,\n",
       " ('ALU', 1): 9,\n",
       " ('comparator', 2): 17,\n",
       " ('decoder', 3): 26,\n",
       " ('encoder', 4): 23,\n",
       " ('mult', 5): 24,\n",
       " ('mux', 6): 26,\n",
       " ('pe', 7): 16,\n",
       " ('sub', 8): 9}"
      ]
     },
     "execution_count": 18,
     "metadata": {},
     "output_type": "execute_result"
    }
   ],
   "source": [
    "labels_dict"
   ]
  },
  {
   "cell_type": "code",
   "execution_count": null,
   "metadata": {},
   "outputs": [],
   "source": []
  }
 ],
 "metadata": {
  "kernelspec": {
   "display_name": "base",
   "language": "python",
   "name": "python3"
  },
  "language_info": {
   "codemirror_mode": {
    "name": "ipython",
    "version": 3
   },
   "file_extension": ".py",
   "mimetype": "text/x-python",
   "name": "python",
   "nbconvert_exporter": "python",
   "pygments_lexer": "ipython3",
   "version": "3.9.12"
  }
 },
 "nbformat": 4,
 "nbformat_minor": 2
}
