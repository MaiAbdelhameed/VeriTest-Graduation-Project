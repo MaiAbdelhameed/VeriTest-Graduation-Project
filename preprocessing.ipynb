{
 "cells": [
  {
   "cell_type": "code",
   "execution_count": 22,
   "metadata": {},
   "outputs": [],
   "source": [
    "import os\n",
    "import json\n",
    "import re\n",
    "import shutil\n",
    "input_folder = \"encoded_yosys\"\n",
    "output_folder = \"done\"\n",
    "import torch\n",
    "import torch.nn.functional as F\n"
   ]
  },
  {
   "cell_type": "code",
   "execution_count": 23,
   "metadata": {},
   "outputs": [
    {
     "name": "stdout",
     "output_type": "stream",
     "text": [
      "396\n",
      "<class 'str'>\n",
      "encoded_yosys\\adder10_synth.txt\n"
     ]
    }
   ],
   "source": [
    "# Use list comprehension to create a list of file paths\n",
    "verilog_files = [os.path.join(input_folder, filename) for filename in os.listdir(input_folder) if filename.endswith('.txt')]\n",
    "\n",
    "# Print the list of file paths\n",
    "print(len(verilog_files))\n",
    "print(type(verilog_files[0]))\n",
    "print(verilog_files[0])\n"
   ]
  },
  {
   "cell_type": "code",
   "execution_count": 24,
   "metadata": {},
   "outputs": [
    {
     "name": "stdout",
     "output_type": "stream",
     "text": [
      "tensor([[1, 0, 0, 0, 0, 0, 0, 0, 0, 0, 0, 0, 0, 0, 0, 0],\n",
      "        [0, 1, 0, 0, 0, 0, 0, 0, 0, 0, 0, 0, 0, 0, 0, 0],\n",
      "        [0, 0, 1, 0, 0, 0, 0, 0, 0, 0, 0, 0, 0, 0, 0, 0],\n",
      "        [0, 0, 0, 1, 0, 0, 0, 0, 0, 0, 0, 0, 0, 0, 0, 0],\n",
      "        [0, 0, 0, 0, 1, 0, 0, 0, 0, 0, 0, 0, 0, 0, 0, 0],\n",
      "        [0, 0, 0, 0, 0, 1, 0, 0, 0, 0, 0, 0, 0, 0, 0, 0],\n",
      "        [0, 0, 0, 0, 0, 0, 1, 0, 0, 0, 0, 0, 0, 0, 0, 0],\n",
      "        [0, 0, 0, 0, 0, 0, 0, 1, 0, 0, 0, 0, 0, 0, 0, 0],\n",
      "        [0, 0, 0, 0, 0, 0, 0, 0, 1, 0, 0, 0, 0, 0, 0, 0],\n",
      "        [0, 0, 0, 0, 0, 0, 0, 0, 0, 1, 0, 0, 0, 0, 0, 0],\n",
      "        [0, 0, 0, 0, 0, 0, 0, 0, 0, 0, 1, 0, 0, 0, 0, 0],\n",
      "        [0, 0, 0, 0, 0, 0, 0, 0, 0, 0, 0, 1, 0, 0, 0, 0],\n",
      "        [0, 0, 0, 0, 0, 0, 0, 0, 0, 0, 0, 0, 1, 0, 0, 0],\n",
      "        [0, 0, 0, 0, 0, 0, 0, 0, 0, 0, 0, 0, 0, 1, 0, 0],\n",
      "        [0, 0, 0, 0, 0, 0, 0, 0, 0, 0, 0, 0, 0, 0, 1, 0],\n",
      "        [0, 0, 0, 0, 0, 0, 0, 0, 0, 0, 0, 0, 0, 0, 0, 1]])\n"
     ]
    }
   ],
   "source": [
    "ground_truth_labels = [0,1,2,3,4,5,6,7,8,9,10,11,12,13, 14, 15] \n",
    "labels_torch = torch.tensor(ground_truth_labels)\n",
    "\n",
    "# One-hot encode the labels\n",
    "# one_hot_labels = F.one_hot(labels_torch, num_classes=16)\n",
    "# one_hot_labels = F.one_hot(labels_torch, num_classes=9)\n",
    "# one_hot_labels = F.one_hot(labels_torch, num_classes=15)\n",
    "one_hot_labels = F.one_hot(labels_torch, num_classes=16)\n",
    "\n",
    "print(one_hot_labels)"
   ]
  },
  {
   "cell_type": "code",
   "execution_count": 25,
   "metadata": {},
   "outputs": [
    {
     "name": "stdout",
     "output_type": "stream",
     "text": [
      "Failed to label: encoded_yosys\\seg1_synth.txt\n",
      "Failed to label: encoded_yosys\\seg2_synth.txt\n",
      "Failed to label: encoded_yosys\\seg3_synth.txt\n",
      "Failed to label: encoded_yosys\\seg4_synth.txt\n",
      "Failed to label: encoded_yosys\\seg5_synth.txt\n",
      "Failed to label: encoded_yosys\\seg6_synth.txt\n",
      "Failed to label: encoded_yosys\\seg7_synth.txt\n",
      "Failed to label: encoded_yosys\\seg8_synth.txt\n",
      "Failed to label: encoded_yosys\\seg9_synth.txt\n"
     ]
    }
   ],
   "source": [
    "\n",
    "labels_dict = dict()\n",
    "def label_verilog_file(file_name):\n",
    "    # label_mapping = {\n",
    "    #     'adder': 0, 'ALU': 1, 'comparator': 2, 'decoder': 3,\n",
    "    #     'encoder': 4, 'mult': 5, 'mux': 6, 'pe': 7, 'sub': 8\n",
    "    # }\n",
    "    \n",
    "    label_mapping = {\n",
    "        'adder': 0, 'comparator': 1, 'decoder': 2,\n",
    "        'encoder': 3, 'mult': 4, 'mux': 5, 'pe': 6, \n",
    "        'sub': 7, 'and': 8, 'or': 9, 'not': 10, 'nand': 11, \n",
    "        'nor': 12, 'xnor': 13,'xor':14\n",
    "    }\n",
    "    \n",
    "    pattern = r\"([a-zA-Z]+)(\\d+)?\"\n",
    "    match = re.match(pattern, file_name)\n",
    "    if match:\n",
    "        base_name = match.group(1)\n",
    "        if base_name in label_mapping:\n",
    "            labels_dict[base_name] = labels_dict.get(base_name, 0) + 1\n",
    "            return one_hot_labels[label_mapping[base_name]].tolist()\n",
    "        \n",
    "    return None\n",
    "\n",
    "\n",
    "def add_label_to_verilog_file(input_file_path, output_folder):\n",
    "    if input_file_path.endswith('.txt'):\n",
    "        with open(input_file_path, \"r\") as file:\n",
    "            loaded_data = json.load(file)\n",
    "            label = label_verilog_file(os.path.basename(input_file_path))\n",
    "            if label is not None and [label] not in loaded_data:  # Check if label already exists\n",
    "                loaded_data.append([label])  # Add label as the third list\n",
    "                output_file_path = os.path.join(output_folder, os.path.basename(input_file_path))\n",
    "                with open(output_file_path, \"w\") as output_file:\n",
    "                    json.dump(loaded_data, output_file)\n",
    "                return True\n",
    "    return False\n",
    "\n",
    "\n",
    "\n",
    "# Create the output folder if it doesn't exist\n",
    "if not os.path.exists(output_folder):\n",
    "    os.makedirs(output_folder)\n",
    "\n",
    "# Process files in the input folder\n",
    "for file_name in os.listdir(input_folder):\n",
    "    file_path = os.path.join(input_folder, file_name)\n",
    "    if os.path.isfile(file_path):\n",
    "        if not add_label_to_verilog_file(file_path, output_folder):\n",
    "            print(f\"Failed to label: {file_path}\")\n",
    "\n"
   ]
  },
  {
   "cell_type": "code",
   "execution_count": 26,
   "metadata": {},
   "outputs": [
    {
     "name": "stdout",
     "output_type": "stream",
     "text": [
      "387\n",
      "[]\n",
      "['done\\\\adder10_synth.txt', 'done\\\\adder11_synth.txt', 'done\\\\adder12_synth.txt', 'done\\\\adder13_synth.txt', 'done\\\\adder14_synth.txt', 'done\\\\adder15_synth.txt', 'done\\\\adder16_synth.txt', 'done\\\\adder17_synth.txt', 'done\\\\adder18_synth.txt', 'done\\\\adder19_synth.txt', 'done\\\\adder1_synth.txt', 'done\\\\adder20_synth.txt', 'done\\\\adder21_synth.txt', 'done\\\\adder22_synth.txt', 'done\\\\adder23_synth.txt', 'done\\\\adder24_synth.txt', 'done\\\\adder25_synth.txt', 'done\\\\adder26_synth.txt', 'done\\\\adder27_synth.txt', 'done\\\\adder28_synth.txt', 'done\\\\adder2_synth.txt', 'done\\\\adder3_synth.txt', 'done\\\\adder4_synth.txt', 'done\\\\adder5_synth.txt', 'done\\\\adder6_synth.txt', 'done\\\\adder7_synth.txt', 'done\\\\adder8_synth.txt', 'done\\\\adder9_synth.txt', 'done\\\\and10_gate_synth.txt', 'done\\\\and11_gate_synth.txt', 'done\\\\and12_gate_synth.txt', 'done\\\\and13_synth.txt', 'done\\\\and14_synth.txt', 'done\\\\and15_synth.txt', 'done\\\\and16_synth.txt', 'done\\\\and17_synth.txt', 'done\\\\and18_gate_synth.txt', 'done\\\\and19_synth.txt', 'done\\\\and1_synth.txt', 'done\\\\and20_synth.txt', 'done\\\\and21_synth.txt', 'done\\\\and22_synth.txt', 'done\\\\and23_synth.txt', 'done\\\\and24_synth.txt', 'done\\\\and25_synth.txt', 'done\\\\and26_synth.txt', 'done\\\\and27_synth.txt', 'done\\\\and28_synth.txt', 'done\\\\and29_synth.txt', 'done\\\\and2_gate_synth.txt', 'done\\\\and30_synth.txt', 'done\\\\and3_gate_synth.txt', 'done\\\\and4_gate_synth.txt', 'done\\\\and5_gate_synth.txt', 'done\\\\and6_gate_synth.txt', 'done\\\\and7_gate_synth.txt', 'done\\\\and8_gate_synth.txt', 'done\\\\and9_gate_synth.txt', 'done\\\\comparator10_synth.txt', 'done\\\\comparator11_synth.txt', 'done\\\\comparator12_synth.txt', 'done\\\\comparator13_synth.txt', 'done\\\\comparator14_synth.txt', 'done\\\\comparator15_synth.txt', 'done\\\\comparator16_synth.txt', 'done\\\\comparator17_synth.txt', 'done\\\\comparator18_synth.txt', 'done\\\\comparator19_synth.txt', 'done\\\\comparator1_synth.txt', 'done\\\\comparator20_synth.txt', 'done\\\\comparator21_synth.txt', 'done\\\\comparator22_synth.txt', 'done\\\\comparator2_synth.txt', 'done\\\\comparator3_synth.txt', 'done\\\\comparator4_synth.txt', 'done\\\\comparator5_synth.txt', 'done\\\\comparator6_synth.txt', 'done\\\\comparator7_synth.txt', 'done\\\\comparator8_synth.txt', 'done\\\\comparator9_synth.txt', 'done\\\\decoder10_synth.txt', 'done\\\\decoder11_synth.txt', 'done\\\\decoder12_synth.txt', 'done\\\\decoder13_synth.txt', 'done\\\\decoder14_synth.txt', 'done\\\\decoder15_synth.txt', 'done\\\\decoder16_synth.txt', 'done\\\\decoder17_synth.txt', 'done\\\\decoder18_synth.txt', 'done\\\\decoder19_synth.txt', 'done\\\\decoder1_synth.txt', 'done\\\\decoder20_synth.txt', 'done\\\\decoder21_synth.txt', 'done\\\\decoder22_synth.txt', 'done\\\\decoder23_synth.txt', 'done\\\\decoder24_synth.txt', 'done\\\\decoder25_synth.txt', 'done\\\\decoder26_synth.txt', 'done\\\\decoder27_synth.txt', 'done\\\\decoder28_synth.txt', 'done\\\\decoder29_synth.txt', 'done\\\\decoder2_synth.txt', 'done\\\\decoder30_synth.txt', 'done\\\\decoder31_synth.txt', 'done\\\\decoder32_synth.txt', 'done\\\\decoder3_synth.txt', 'done\\\\decoder4_synth.txt', 'done\\\\decoder5_synth.txt', 'done\\\\decoder6_synth.txt', 'done\\\\decoder7_synth.txt', 'done\\\\decoder8_synth.txt', 'done\\\\decoder9_synth.txt', 'done\\\\encoder10_synth.txt', 'done\\\\encoder11_synth.txt', 'done\\\\encoder12_synth.txt', 'done\\\\encoder13_synth.txt', 'done\\\\encoder14_synth.txt', 'done\\\\encoder15_synth.txt', 'done\\\\encoder16_synth.txt', 'done\\\\encoder17_synth.txt', 'done\\\\encoder18_synth.txt', 'done\\\\encoder19_synth.txt', 'done\\\\encoder1_synth.txt', 'done\\\\encoder20_synth.txt', 'done\\\\encoder21_synth.txt', 'done\\\\encoder22_synth.txt', 'done\\\\encoder23_synth.txt', 'done\\\\encoder24_synth.txt', 'done\\\\encoder25_synth.txt', 'done\\\\encoder2_synth.txt', 'done\\\\encoder3_synth.txt', 'done\\\\encoder4_synth.txt', 'done\\\\encoder5_synth.txt', 'done\\\\encoder6_synth.txt', 'done\\\\encoder7_synth.txt', 'done\\\\encoder8_synth.txt', 'done\\\\encoder9_synth.txt', 'done\\\\mult10_synth.txt', 'done\\\\mult11_synth.txt', 'done\\\\mult12_synth.txt', 'done\\\\mult13_synth.txt', 'done\\\\mult14_synth.txt', 'done\\\\mult15_synth.txt', 'done\\\\mult16_synth.txt', 'done\\\\mult17_synth.txt', 'done\\\\mult18_synth.txt', 'done\\\\mult19_synth.txt', 'done\\\\mult1_synth.txt', 'done\\\\mult20_synth.txt', 'done\\\\mult21_synth.txt', 'done\\\\mult22_synth.txt', 'done\\\\mult23_synth.txt', 'done\\\\mult25_synth.txt', 'done\\\\mult26_synth.txt', 'done\\\\mult27_synth.txt', 'done\\\\mult28_synth.txt', 'done\\\\mult29_synth.txt', 'done\\\\mult2_synth.txt', 'done\\\\mult30_synth.txt', 'done\\\\mult3_synth.txt', 'done\\\\mult4_synth.txt', 'done\\\\mult5_synth.txt', 'done\\\\mult6_synth.txt', 'done\\\\mult7_synth.txt', 'done\\\\mult8_synth.txt', 'done\\\\mult9_synth.txt', 'done\\\\mux10_synth.txt', 'done\\\\mux11_synth.txt', 'done\\\\mux12_synth.txt', 'done\\\\mux13_synth.txt', 'done\\\\mux15_synth.txt', 'done\\\\mux16_synth.txt', 'done\\\\mux17_synth.txt', 'done\\\\mux18_synth.txt', 'done\\\\mux19_synth.txt', 'done\\\\mux1_synth.txt', 'done\\\\mux20_synth.txt', 'done\\\\mux21_synth.txt', 'done\\\\mux22_synth.txt', 'done\\\\mux23_synth.txt', 'done\\\\mux24_synth.txt', 'done\\\\mux25_synth.txt', 'done\\\\mux26_synth.txt', 'done\\\\mux27_synth.txt', 'done\\\\mux28_synth.txt', 'done\\\\mux2_synth.txt', 'done\\\\mux3_synth.txt', 'done\\\\mux4_synth.txt', 'done\\\\mux5_synth.txt', 'done\\\\mux6_synth.txt', 'done\\\\mux7_synth.txt', 'done\\\\mux8_synth.txt', 'done\\\\mux9_synth.txt', 'done\\\\nand10_synth.txt', 'done\\\\nand11_synth.txt', 'done\\\\nand12_gate_synth.txt', 'done\\\\nand13_synth.txt', 'done\\\\nand14_synth.txt', 'done\\\\nand15_synth.txt', 'done\\\\nand16_synth.txt', 'done\\\\nand17_synth.txt', 'done\\\\nand18_synth.txt', 'done\\\\nand19_synth.txt', 'done\\\\nand1_synth.txt', 'done\\\\nand20_gate_synth.txt', 'done\\\\nand21_synth.txt', 'done\\\\nand22_synth.txt', 'done\\\\nand23_synth.txt', 'done\\\\nand24_synth.txt', 'done\\\\nand25_synth.txt', 'done\\\\nand26_synth.txt', 'done\\\\nand27_synth.txt', 'done\\\\nand28_synth.txt', 'done\\\\nand29_synth.txt', 'done\\\\nand2_gate_synth.txt', 'done\\\\nand30_synth.txt', 'done\\\\nand31_synth.txt', 'done\\\\nand3_gate_synth.txt', 'done\\\\nand4_gate_synth.txt', 'done\\\\nand5_gate_synth.txt', 'done\\\\nand6_gate_synth.txt', 'done\\\\nand7_gate_synth.txt', 'done\\\\nand8_gate_synth.txt', 'done\\\\nand9_gate_synth.txt', 'done\\\\nor10_synth.txt', 'done\\\\nor11_synth.txt', 'done\\\\nor12_gate_synth.txt', 'done\\\\nor13_synth.txt', 'done\\\\nor14_synth.txt', 'done\\\\nor15_synth.txt', 'done\\\\nor16_synth.txt', 'done\\\\nor17_synth.txt', 'done\\\\nor18_synth.txt', 'done\\\\nor19_synth.txt', 'done\\\\nor1_synth.txt', 'done\\\\nor20_synth.txt', 'done\\\\nor21_synth.txt', 'done\\\\nor22_synth.txt', 'done\\\\nor23_synth.txt', 'done\\\\nor24_synth.txt', 'done\\\\nor25_synth.txt', 'done\\\\nor26_synth.txt', 'done\\\\nor27_gate_synth.txt', 'done\\\\nor28_synth.txt', 'done\\\\nor29_synth.txt', 'done\\\\nor2_gate_synth.txt', 'done\\\\nor30_synth.txt', 'done\\\\nor3_gate_synth.txt', 'done\\\\nor4_gate_synth.txt', 'done\\\\nor5_gate_synth.txt', 'done\\\\nor6_gate_synth.txt', 'done\\\\nor7_synth.txt', 'done\\\\nor8_gate_synth.txt', 'done\\\\nor9_synth.txt', 'done\\\\not10_synth.txt', 'done\\\\not11_synth.txt', 'done\\\\not12_synth.txt', 'done\\\\not13_synth.txt', 'done\\\\not14_synth.txt', 'done\\\\not15_synth.txt', 'done\\\\not16_synth.txt', 'done\\\\not1_synth.txt', 'done\\\\not2_synth.txt', 'done\\\\not3_synth.txt', 'done\\\\not4_synth.txt', 'done\\\\not5_synth.txt', 'done\\\\not6_synth.txt', 'done\\\\not7_synth.txt', 'done\\\\not8_synth.txt', 'done\\\\not9_synth.txt', 'done\\\\or11_synth.txt', 'done\\\\or13_synth.txt', 'done\\\\or14_synth.txt', 'done\\\\or15_synth.txt', 'done\\\\or16_synth.txt', 'done\\\\or17_gate_synth.txt', 'done\\\\or18_synth.txt', 'done\\\\or19_synth.txt', 'done\\\\or1_synth.txt', 'done\\\\or20_synth.txt', 'done\\\\or21_synth.txt', 'done\\\\or22_synth.txt', 'done\\\\or23_synth.txt', 'done\\\\or24_synth.txt', 'done\\\\or25_synth.txt', 'done\\\\or26_synth.txt', 'done\\\\or27_synth.txt', 'done\\\\or28_synth.txt', 'done\\\\or29_synth.txt', 'done\\\\or2_gate_synth.txt', 'done\\\\or3_gate_synth.txt', 'done\\\\or4_gate_synth.txt', 'done\\\\or5_gate_synth.txt', 'done\\\\or6_gate_synth.txt', 'done\\\\or7_synth.txt', 'done\\\\or8_gate_synth.txt', 'done\\\\or9_synth.txt', 'done\\\\pe10_synth.txt', 'done\\\\pe11_synth.txt', 'done\\\\pe12_synth.txt', 'done\\\\pe13_synth.txt', 'done\\\\pe14_synth.txt', 'done\\\\pe15_synth.txt', 'done\\\\pe16_synth.txt', 'done\\\\pe17_synth.txt', 'done\\\\pe18_synth.txt', 'done\\\\pe19_synth.txt', 'done\\\\pe1_synth.txt', 'done\\\\pe20_synth.txt', 'done\\\\pe21_synth.txt', 'done\\\\pe22_synth.txt', 'done\\\\pe2_synth.txt', 'done\\\\pe3_synth.txt', 'done\\\\pe4_synth.txt', 'done\\\\pe5_synth.txt', 'done\\\\pe6_synth.txt', 'done\\\\pe8_synth.txt', 'done\\\\pe9_synth.txt', 'done\\\\sub10_synth.txt', 'done\\\\sub11_synth.txt', 'done\\\\sub12_synth.txt', 'done\\\\sub1_synth.txt', 'done\\\\sub2_synth.txt', 'done\\\\sub4_synth.txt', 'done\\\\sub5_synth.txt', 'done\\\\sub6_synth.txt', 'done\\\\sub7_synth.txt', 'done\\\\sub8_synth.txt', 'done\\\\sub9_synth.txt', 'done\\\\xnor10_synth.txt', 'done\\\\xnor11_synth.txt', 'done\\\\xnor12_synth.txt', 'done\\\\xnor13_synth.txt', 'done\\\\xnor14_synth.txt', 'done\\\\xnor15_synth.txt', 'done\\\\xnor16_synth.txt', 'done\\\\xnor17_synth.txt', 'done\\\\xnor18_synth.txt', 'done\\\\xnor19_synth.txt', 'done\\\\xnor1_synth.txt', 'done\\\\xnor20_synth.txt', 'done\\\\xnor21_synth.txt', 'done\\\\xnor22_synth.txt', 'done\\\\xnor23_synth.txt', 'done\\\\xnor24_synth.txt', 'done\\\\xnor25_synth.txt', 'done\\\\xnor26_synth.txt', 'done\\\\xnor27_synth.txt', 'done\\\\xnor28_synth.txt', 'done\\\\xnor29_synth.txt', 'done\\\\xnor2_synth.txt', 'done\\\\xnor30_synth.txt', 'done\\\\xnor3_synth.txt', 'done\\\\xnor4_synth.txt', 'done\\\\xnor5_synth.txt', 'done\\\\xnor6_synth.txt', 'done\\\\xnor7_synth.txt', 'done\\\\xnor8_synth.txt', 'done\\\\xnor9_synth.txt', 'done\\\\xor10_synth.txt', 'done\\\\xor11_synth.txt', 'done\\\\xor12_synth.txt', 'done\\\\xor13_synth.txt', 'done\\\\xor14_synth.txt', 'done\\\\xor15_synth.txt', 'done\\\\xor16_synth.txt', 'done\\\\xor17_synth.txt', 'done\\\\xor18_synth.txt', 'done\\\\xor19_synth.txt', 'done\\\\xor1_synth.txt', 'done\\\\xor20_synth.txt', 'done\\\\xor21_synth.txt', 'done\\\\xor22_synth.txt', 'done\\\\xor23_synth.txt', 'done\\\\xor24_synth.txt', 'done\\\\xor25_synth.txt', 'done\\\\xor26_synth.txt', 'done\\\\xor27_synth.txt', 'done\\\\xor28_synth.txt', 'done\\\\xor29_synth.txt', 'done\\\\xor2_synth.txt', 'done\\\\xor3_synth.txt', 'done\\\\xor4_synth.txt', 'done\\\\xor5_synth.txt', 'done\\\\xor6_synth.txt', 'done\\\\xor7_synth.txt', 'done\\\\xor8_synth.txt']\n"
     ]
    }
   ],
   "source": [
    "failed_files = []\n",
    "\n",
    "def get_files_in_folder(input_folder):\n",
    "    file_list = []\n",
    "    for file_name in os.listdir(input_folder):\n",
    "        file_path = os.path.join(input_folder, file_name)\n",
    "        if os.path.isfile(file_path):\n",
    "            file_list.append(file_path)\n",
    "    return file_list\n",
    "\n",
    "# Replace 'input_folder' with the path to the folder you want to read files from\n",
    "verilog_files = get_files_in_folder(output_folder)\n",
    "print(len(verilog_files))\n",
    "print(failed_files)\n",
    "print(verilog_files)\n",
    "\n",
    "# for v in verilog_files:\n",
    "#     with open(v, \"r\") as file:\n",
    "#         loaded_data = json.load(file)\n",
    "#         # print(loaded_data[0])\n",
    "        \n",
    "#         for node in loaded_data[0]:\n",
    "#             if len(node) != 4:\n",
    "#                 failed_files.append(v)\n",
    "#                 break\n",
    "            \n",
    "#how to save list in a txt file\n"
   ]
  },
  {
   "cell_type": "markdown",
   "metadata": {},
   "source": [
    "# reduce classes: \n",
    "    -Decoder\n",
    "    -Encoder\n",
    "    -Mux"
   ]
  },
  {
   "cell_type": "markdown",
   "metadata": {},
   "source": [
    "removed seg and bcd classes"
   ]
  },
  {
   "cell_type": "code",
   "execution_count": 27,
   "metadata": {},
   "outputs": [
    {
     "data": {
      "text/plain": [
       "{'adder': 28,\n",
       " 'and': 30,\n",
       " 'comparator': 22,\n",
       " 'decoder': 32,\n",
       " 'encoder': 25,\n",
       " 'mult': 29,\n",
       " 'mux': 27,\n",
       " 'nand': 31,\n",
       " 'nor': 30,\n",
       " 'not': 16,\n",
       " 'or': 27,\n",
       " 'pe': 21,\n",
       " 'sub': 11,\n",
       " 'xnor': 30,\n",
       " 'xor': 28}"
      ]
     },
     "execution_count": 27,
     "metadata": {},
     "output_type": "execute_result"
    }
   ],
   "source": [
    "# print(labels_dict)\n",
    "# data_str_keys = {str(key): value for key, value in labels_dict.items()}\n",
    "with open(\"labels_dict.txt\", \"w\") as file:\n",
    "    json.dump(labels_dict, file)\n",
    "\n",
    "labels_dict"
   ]
  },
  {
   "cell_type": "code",
   "execution_count": 15,
   "metadata": {},
   "outputs": [],
   "source": [
    "def get_files_in_folder(input_folder):\n",
    "    file_list = []\n",
    "    for file_name in os.listdir(input_folder):\n",
    "        file_path = os.path.join(input_folder, file_name)\n",
    "        if os.path.isfile(file_path):\n",
    "            file_list.append(file_path)\n",
    "    return file_list"
   ]
  },
  {
   "cell_type": "code",
   "execution_count": 8,
   "metadata": {},
   "outputs": [],
   "source": [
    "def preprocessing(folder_path):\n",
    "    \n",
    "    file_list = get_files_in_folder(folder_path)\n",
    "    \n",
    "    return file_list"
   ]
  },
  {
   "cell_type": "code",
   "execution_count": null,
   "metadata": {},
   "outputs": [],
   "source": []
  },
  {
   "cell_type": "code",
   "execution_count": null,
   "metadata": {},
   "outputs": [],
   "source": [
    "# classes_dict = dict()\n",
    "# for file in verilog_files:\n",
    "#     if file.endswith('.txt'):\n",
    "#         with open(file, \"r\") as f:\n",
    "#             loaded_data = json.load(file)\n",
    "#             temp = \n",
    "#             for sublist in loaded_data[0]:\n",
    "                "
   ]
  }
 ],
 "metadata": {
  "kernelspec": {
   "display_name": "base",
   "language": "python",
   "name": "python3"
  },
  "language_info": {
   "codemirror_mode": {
    "name": "ipython",
    "version": 3
   },
   "file_extension": ".py",
   "mimetype": "text/x-python",
   "name": "python",
   "nbconvert_exporter": "python",
   "pygments_lexer": "ipython3",
   "version": "3.9.12"
  }
 },
 "nbformat": 4,
 "nbformat_minor": 2
}
