{
 "cells": [
  {
   "cell_type": "code",
   "execution_count": null,
   "metadata": {},
   "outputs": [],
   "source": [
    "import os\n",
    "\n",
    "# Define the path to the folder containing your Verilog files\n",
    "folder_path = 'encoded'\n",
    "\n",
    "# Use list comprehension to create a list of file paths\n",
    "verilog_files = [os.path.join(folder_path, filename) for filename in os.listdir(folder_path) if filename.endswith('.txt')]\n",
    "\n",
    "# Print the list of file paths\n",
    "print(len(verilog_files))\n",
    "print(type(verilog_files[0]))\n",
    "print(verilog_files[0])\n"
   ]
  },
  {
   "cell_type": "code",
   "execution_count": null,
   "metadata": {},
   "outputs": [],
   "source": [
    "# import os\n",
    "# import json\n",
    "# import re\n",
    "\n",
    "# def label_verilog_file(file_name):\n",
    "#     label_mapping = {\n",
    "#         'adder': 0, 'ALU': 1, 'and': 2, 'bcd': 3, 'comparator': 4, 'decoder': 5,\n",
    "#         'encoder': 6, 'mult': 7, 'mux': 8, 'nand': 9, 'nor': 10, 'not': 11, 'or': 12,\n",
    "#         'pe': 13, 'seg': 14, 'sub': 15, 'xnor': 16, 'xor': 17\n",
    "#     }\n",
    "#     pattern = r\"([a-zA-Z]+)(\\d+)?\"\n",
    "#     match = re.match(pattern, file_name)\n",
    "#     if match:\n",
    "#         base_name = match.group(1)\n",
    "#         if base_name in label_mapping:\n",
    "#             return label_mapping[base_name]\n",
    "#     return None\n",
    "\n",
    "# def add_label_to_verilog_file(file_path):\n",
    "#     if file_path.endswith('.txt'):\n",
    "#         with open(file_path, \"r\") as file:\n",
    "#             loaded_data = json.load(file)\n",
    "#             label = label_verilog_file(os.path.basename(file_path))\n",
    "#             if label is not None and [label] not in loaded_data:  # Check if label already exists\n",
    "#                 loaded_data.append([label])  # Add label as the third list\n",
    "#                 with open(file_path, \"w\") as file:\n",
    "#                     json.dump(loaded_data, file)\n",
    "#                 return True\n",
    "#     return False\n",
    "\n",
    "# for file_path in verilog_files:\n",
    "#     if not add_label_to_verilog_file(file_path):\n",
    "#         print(f\"Failed to label: {file_path}\")\n"
   ]
  }
 ],
 "metadata": {
  "kernelspec": {
   "display_name": "base",
   "language": "python",
   "name": "python3"
  },
  "language_info": {
   "name": "python",
   "version": "2022.5.-1"
  }
 },
 "nbformat": 4,
 "nbformat_minor": 2
}
