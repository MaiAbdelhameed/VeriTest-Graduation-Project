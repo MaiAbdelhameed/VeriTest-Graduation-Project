{
 "cells": [
  {
   "cell_type": "code",
   "execution_count": 3,
   "metadata": {},
   "outputs": [
    {
     "name": "stdout",
     "output_type": "stream",
     "text": [
      "405\n",
      "<class 'str'>\n",
      "encoded\\adder11.txt\n"
     ]
    }
   ],
   "source": [
    "import os\n",
    "\n",
    "# Define the path to the folder containing your Verilog files\n",
    "folder_path = 'encoded'\n",
    "\n",
    "# Use list comprehension to create a list of file paths\n",
    "verilog_files = [os.path.join(folder_path, filename) for filename in os.listdir(folder_path) if filename.endswith('.txt')]\n",
    "\n",
    "# Print the list of file paths\n",
    "print(len(verilog_files))\n",
    "print(type(verilog_files[0]))\n",
    "print(verilog_files[0])\n"
   ]
  },
  {
   "cell_type": "code",
   "execution_count": 4,
   "metadata": {},
   "outputs": [],
   "source": [
    "import os\n",
    "import json\n",
    "import re\n",
    "import shutil\n",
    "\n",
    "def label_verilog_file(file_name):\n",
    "    label_mapping = {\n",
    "        'adder': 0, 'ALU': 1, 'and': 2, 'nand': 3, 'nor': 4, 'not': 5, 'or': 6,'xnor': 7, 'xor': 8,'comparator': 9, 'decoder': 10,\n",
    "        'encoder': 11, 'mult': 12, 'mux': 13, 'pe': 14, 'seg': 15, 'sub': 16\n",
    "    }\n",
    "    pattern = r\"([a-zA-Z]+)(\\d+)?\"\n",
    "    match = re.match(pattern, file_name)\n",
    "    if match:\n",
    "        base_name = match.group(1)\n",
    "        if base_name in label_mapping:\n",
    "            return label_mapping[base_name]\n",
    "        \n",
    "    return None\n",
    "\n",
    "def add_label_to_verilog_file(input_file_path, output_folder):\n",
    "    if input_file_path.endswith('.txt'):\n",
    "        with open(input_file_path, \"r\") as file:\n",
    "            loaded_data = json.load(file)\n",
    "            # Convert string elements to integers\n",
    "            for sublist in loaded_data[0]:\n",
    "                sublist[1] = int(sublist[1])\n",
    "            label = label_verilog_file(os.path.basename(input_file_path))\n",
    "            if label is not None and [label] not in loaded_data:  # Check if label already exists\n",
    "                loaded_data.append([label])  # Add label as the third list\n",
    "                output_file_path = os.path.join(output_folder, os.path.basename(input_file_path))\n",
    "                with open(output_file_path, \"w\") as output_file:\n",
    "                    json.dump(loaded_data, output_file)\n",
    "                return True\n",
    "    return False\n",
    "\n",
    "input_folder = \"encoded\"\n",
    "output_folder = \"done\"\n",
    "\n",
    "# Create the output folder if it doesn't exist\n",
    "if not os.path.exists(output_folder):\n",
    "    os.makedirs(output_folder)\n",
    "\n",
    "# Process files in the input folder\n",
    "for file_name in os.listdir(input_folder):\n",
    "    file_path = os.path.join(input_folder, file_name)\n",
    "    if os.path.isfile(file_path):\n",
    "        if not add_label_to_verilog_file(file_path, output_folder):\n",
    "            print(f\"Failed to label: {file_path}\")\n",
    "\n",
    "# Optionally, delete the input files after processing\n",
    "# for file_name in os.listdir(input_folder):\n",
    "#     file_path = os.path.join(input_folder, file_name)\n",
    "#     if os.path.isfile(file_path):\n",
    "#         os.remove(file_path)\n"
   ]
  },
  {
   "cell_type": "code",
   "execution_count": null,
   "metadata": {},
   "outputs": [],
   "source": []
  }
 ],
 "metadata": {
  "kernelspec": {
   "display_name": "base",
   "language": "python",
   "name": "python3"
  },
  "language_info": {
   "codemirror_mode": {
    "name": "ipython",
    "version": 3
   },
   "file_extension": ".py",
   "mimetype": "text/x-python",
   "name": "python",
   "nbconvert_exporter": "python",
   "pygments_lexer": "ipython3",
   "version": "3.9.12"
  }
 },
 "nbformat": 4,
 "nbformat_minor": 2
}
