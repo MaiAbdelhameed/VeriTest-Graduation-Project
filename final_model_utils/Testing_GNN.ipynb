{
 "cells": [
  {
   "cell_type": "markdown",
   "metadata": {},
   "source": [
    "# Imports"
   ]
  },
  {
   "cell_type": "code",
   "execution_count": 1,
   "metadata": {},
   "outputs": [],
   "source": [
    "from GNN_utils import *"
   ]
  },
  {
   "cell_type": "code",
   "execution_count": 2,
   "metadata": {},
   "outputs": [],
   "source": [
    "def infer_GNN(test_file):\n",
    "    \n",
    "    verilog_file = preprocessing_test(test_file)\n",
    "    data = extracting_attributes(verilog_file)\n",
    "    pred_label = get_prediction(data)\n",
    "    label = get_label_infer(pred_label)\n",
    "    \n",
    "    return label"
   ]
  },
  {
   "cell_type": "code",
   "execution_count": 3,
   "metadata": {},
   "outputs": [
    {
     "name": "stdout",
     "output_type": "stream",
     "text": [
      "adder\n"
     ]
    }
   ],
   "source": [
    "test_file = 'test_sample.txt'\n",
    "label = infer_GNN(test_file)\n",
    "print(label)"
   ]
  },
  {
   "cell_type": "code",
   "execution_count": 4,
   "metadata": {},
   "outputs": [],
   "source": [
    "from nbconvert import ScriptExporter\n",
    "\n",
    "def convert_notebook_to_script(notebook_filename, script_filename):\n",
    "    exporter = ScriptExporter()\n",
    "    output, _ = exporter.from_filename(notebook_filename)\n",
    "    with open(script_filename, 'w') as f:\n",
    "        f.write(output)\n",
    "\n",
    "convert_notebook_to_script('Testing_GNN.ipynb', 'Testing_GNN.py')"
   ]
  },
  {
   "cell_type": "code",
   "execution_count": null,
   "metadata": {},
   "outputs": [],
   "source": []
  }
 ],
 "metadata": {
  "kernelspec": {
   "display_name": "base",
   "language": "python",
   "name": "python3"
  },
  "language_info": {
   "codemirror_mode": {
    "name": "ipython",
    "version": 3
   },
   "file_extension": ".py",
   "mimetype": "text/x-python",
   "name": "python",
   "nbconvert_exporter": "python",
   "pygments_lexer": "ipython3",
   "version": "3.9.12"
  }
 },
 "nbformat": 4,
 "nbformat_minor": 2
}
