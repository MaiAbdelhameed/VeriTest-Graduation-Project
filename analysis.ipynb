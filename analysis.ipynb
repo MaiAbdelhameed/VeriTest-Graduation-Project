{
 "cells": [
  {
   "cell_type": "code",
   "execution_count": 2,
   "metadata": {},
   "outputs": [],
   "source": [
    "import os\n",
    "import json\n",
    "import re\n",
    "import shutil\n",
    "input_folder = \"encoded\"\n",
    "output_folder = \"done\"\n",
    "import torch\n",
    "import torch.nn.functional as F\n",
    "import textwrap"
   ]
  },
  {
   "cell_type": "code",
   "execution_count": 3,
   "metadata": {},
   "outputs": [
    {
     "name": "stdout",
     "output_type": "stream",
     "text": [
      "290\n",
      "<class 'str'>\n",
      "encoded\\adder11.txt\n"
     ]
    }
   ],
   "source": [
    "# Use list comprehension to create a list of file paths\n",
    "verilog_files = [os.path.join(input_folder, filename) for filename in os.listdir(input_folder) if filename.endswith('.txt')]\n",
    "\n",
    "# Print the list of file paths\n",
    "print(len(verilog_files))\n",
    "print(type(verilog_files[0]))\n",
    "print(verilog_files[0])\n"
   ]
  },
  {
   "cell_type": "code",
   "execution_count": 23,
   "metadata": {},
   "outputs": [
    {
     "name": "stdout",
     "output_type": "stream",
     "text": [
      "adder 14\n",
      "ALU 9\n",
      "and 25\n",
      "comparator 24\n",
      "decoder 26\n",
      "encoder 23\n",
      "mult 24\n",
      "mux 26\n",
      "nand 20\n",
      "nor 16\n",
      "not 11\n",
      "or 24\n",
      "pe 16\n",
      "sub 9\n",
      "xnor 23\n"
     ]
    }
   ],
   "source": [
    "with open(\"labels_dict.txt\", 'r') as file:\n",
    "    data = file.read()\n",
    "data_dict = json.loads(data)\n",
    "for key, value in data_dict.items():\n",
    "    print(key, value)"
   ]
  },
  {
   "cell_type": "code",
   "execution_count": 16,
   "metadata": {},
   "outputs": [
    {
     "name": "stdout",
     "output_type": "stream",
     "text": [
      "encoded\\ALU10.txt\n",
      "encoded\\ALU13.txt\n",
      "encoded\\decoder30.txt\n",
      "encoded\\encoder16.txt\n",
      "encoded\\encoder18.txt\n",
      "encoded\\encoder6.txt\n",
      "encoded\\pe14.txt\n",
      "encoded\\pe15.txt\n",
      "encoded\\pe16.txt\n",
      "encoded\\pe22.txt\n",
      "encoded\\pe7.txt\n"
     ]
    }
   ],
   "source": [
    "num_connections_list = []\n",
    "size_list = []\n",
    "num_nodes_files_list = []\n",
    "num_edges_files_list = []\n",
    "for file in verilog_files:\n",
    "    with open(file, \"r\") as file:\n",
    "        loaded_data = json.load(file)\n",
    "        num_nodes_files_list.append(len(loaded_data[0]))\n",
    "        num_edges_files_list.append(len(loaded_data[1][0]))\n",
    "        for sublist in loaded_data[0]:\n",
    "            if sublist[2] == 0:\n",
    "                print(file.name)\n",
    "                continue\n",
    "            num_connections_list.append(sublist[2])\n",
    "            size_list.append(sublist[3])"
   ]
  },
  {
   "cell_type": "code",
   "execution_count": 17,
   "metadata": {},
   "outputs": [
    {
     "name": "stdout",
     "output_type": "stream",
     "text": [
      "Average connections:  2.506062685884237\n",
      "Max connections:  34\n",
      "Min connections:  1\n"
     ]
    }
   ],
   "source": [
    "average_connections = sum(num_connections_list) / len(num_connections_list)\n",
    "max_connections = max(num_connections_list)\n",
    "min_connections = min(num_connections_list)\n",
    "\n",
    "print(\"Average connections: \", average_connections)\n",
    "print(\"Max connections: \", max_connections)\n",
    "print(\"Min connections: \", min_connections)"
   ]
  },
  {
   "cell_type": "code",
   "execution_count": 18,
   "metadata": {},
   "outputs": [
    {
     "name": "stdout",
     "output_type": "stream",
     "text": [
      "Average node size:  2.578586135895676\n",
      "Max node size:  32\n",
      "Min node size:  1\n"
     ]
    }
   ],
   "source": [
    "average_size = sum(size_list) / len(size_list)\n",
    "max_size = max(size_list)\n",
    "min_size = min(size_list)\n",
    "\n",
    "print(\"Average node size: \", average_size)\n",
    "print(\"Max node size: \", max_size)\n",
    "print(\"Min node size: \", min_size)"
   ]
  },
  {
   "cell_type": "code",
   "execution_count": 19,
   "metadata": {},
   "outputs": [
    {
     "name": "stdout",
     "output_type": "stream",
     "text": [
      "Average number of nodes:  15.110344827586207\n",
      "Max number of nodes:  165\n",
      "Min number of nodes:  3\n"
     ]
    }
   ],
   "source": [
    "avergae_num_nodes = sum(num_nodes_files_list) / len(num_nodes_files_list)\n",
    "max_num_nodes = max(num_nodes_files_list)\n",
    "min_num_nodes = min(num_nodes_files_list)\n",
    "\n",
    "print(\"Average number of nodes: \", avergae_num_nodes)\n",
    "print(\"Max number of nodes: \", max_num_nodes)\n",
    "print(\"Min number of nodes: \", min_num_nodes)"
   ]
  },
  {
   "cell_type": "code",
   "execution_count": 20,
   "metadata": {},
   "outputs": [
    {
     "name": "stdout",
     "output_type": "stream",
     "text": [
      "Average number of edges:  18.575862068965517\n",
      "Max number of edges:  208\n",
      "Min number of edges:  2\n"
     ]
    }
   ],
   "source": [
    "average_edges = sum(num_edges_files_list) / len(num_edges_files_list)\n",
    "max_edges = max(num_edges_files_list)\n",
    "min_edges = min(num_edges_files_list)\n",
    "\n",
    "print(\"Average number of edges: \", average_edges)\n",
    "print(\"Max number of edges: \", max_edges)\n",
    "print(\"Min number of edges: \", min_edges)"
   ]
  },
  {
   "cell_type": "code",
   "execution_count": 40,
   "metadata": {},
   "outputs": [
    {
     "data": {
      "text/plain": [
       "4382"
      ]
     },
     "execution_count": 40,
     "metadata": {},
     "output_type": "execute_result"
    }
   ],
   "source": [
    "sum_nodes = sum(num_nodes_files_list)\n",
    "sum_nodes"
   ]
  },
  {
   "cell_type": "code",
   "execution_count": 21,
   "metadata": {},
   "outputs": [],
   "source": [
    "# write global statistics to file"
   ]
  },
  {
   "cell_type": "code",
   "execution_count": 137,
   "metadata": {},
   "outputs": [],
   "source": [
    "files_dict = dict()\n",
    "for key in data_dict.keys():\n",
    "    num_nodes = 0\n",
    "    num_edges = 0\n",
    "    num_files = 0\n",
    "    # node_sizes = []\n",
    "    for file_path in verilog_files:\n",
    "        st = file_path.split(\"\\\\\")[1].split(\".\")[0]\n",
    "        # print(st)\n",
    "        pattern = f\"^({key})\\d+\"\n",
    "        # print(pattern)\n",
    "        if re.match(pattern, st):\n",
    "            # print(\"hi\")\n",
    "            num_files += 1\n",
    "            with open(file_path, \"r\") as file:\n",
    "                loaded_data = json.load(file)\n",
    "                num_nodes += len(loaded_data[0])\n",
    "                num_edges += len(loaded_data[1][0])\n",
    "                # for sublist in loaded_data[0]:\n",
    "                #     node_sizes.append(sublist[3])\n",
    "                \n",
    "    files_dict[key] = {\n",
    "        \"num_nodes\": num_nodes,\n",
    "        \"num_edges\": num_edges,\n",
    "        \"average_nodes\": round(num_nodes / num_files,2),\n",
    "        \"average_edges\": round(num_edges / num_files,2),\n",
    "        \"num_files\": num_files,\n",
    "        \"percentage_nodes\" : round(num_nodes / sum_nodes * 100,2),\n",
    "        \"percentage_edges\" : round(num_edges / sum(num_edges_files_list) * 1000,2),\n",
    "        \"percentage_files\" : round(num_files / len(verilog_files) * 100,2)\n",
    "    }\n",
    "# files_dict"
   ]
  },
  {
   "cell_type": "code",
   "execution_count": 138,
   "metadata": {},
   "outputs": [
    {
     "data": {
      "text/plain": [
       "{'num_nodes': 594,\n",
       " 'num_edges': 877,\n",
       " 'average_nodes': 42.43,\n",
       " 'average_edges': 62.64,\n",
       " 'num_files': 14,\n",
       " 'percentage_nodes': 13.56,\n",
       " 'percentage_edges': 162.8,\n",
       " 'percentage_files': 4.83}"
      ]
     },
     "execution_count": 138,
     "metadata": {},
     "output_type": "execute_result"
    }
   ],
   "source": [
    "files_dict[\"adder\"]"
   ]
  },
  {
   "cell_type": "code",
   "execution_count": 139,
   "metadata": {},
   "outputs": [
    {
     "data": {
      "text/plain": [
       "{'num_nodes': 250,\n",
       " 'num_edges': 378,\n",
       " 'average_nodes': 27.78,\n",
       " 'average_edges': 42.0,\n",
       " 'num_files': 9,\n",
       " 'percentage_nodes': 5.71,\n",
       " 'percentage_edges': 70.17,\n",
       " 'percentage_files': 3.1}"
      ]
     },
     "execution_count": 139,
     "metadata": {},
     "output_type": "execute_result"
    }
   ],
   "source": [
    "files_dict[\"ALU\"]"
   ]
  },
  {
   "cell_type": "code",
   "execution_count": 140,
   "metadata": {},
   "outputs": [
    {
     "data": {
      "text/plain": [
       "{'num_nodes': 143,\n",
       " 'num_edges': 142,\n",
       " 'average_nodes': 5.72,\n",
       " 'average_edges': 5.68,\n",
       " 'num_files': 25,\n",
       " 'percentage_nodes': 3.26,\n",
       " 'percentage_edges': 26.36,\n",
       " 'percentage_files': 8.62}"
      ]
     },
     "execution_count": 140,
     "metadata": {},
     "output_type": "execute_result"
    }
   ],
   "source": [
    "files_dict[\"and\"]"
   ]
  },
  {
   "cell_type": "code",
   "execution_count": 141,
   "metadata": {},
   "outputs": [
    {
     "data": {
      "text/plain": [
       "{'num_nodes': 409,\n",
       " 'num_edges': 502,\n",
       " 'average_nodes': 17.04,\n",
       " 'average_edges': 20.92,\n",
       " 'num_files': 24,\n",
       " 'percentage_nodes': 9.33,\n",
       " 'percentage_edges': 93.19,\n",
       " 'percentage_files': 8.28}"
      ]
     },
     "execution_count": 141,
     "metadata": {},
     "output_type": "execute_result"
    }
   ],
   "source": [
    "files_dict[\"comparator\"]"
   ]
  },
  {
   "cell_type": "code",
   "execution_count": 142,
   "metadata": {},
   "outputs": [
    {
     "data": {
      "text/plain": [
       "{'num_nodes': 780,\n",
       " 'num_edges': 1028,\n",
       " 'average_nodes': 30.0,\n",
       " 'average_edges': 39.54,\n",
       " 'num_files': 26,\n",
       " 'percentage_nodes': 17.8,\n",
       " 'percentage_edges': 190.83,\n",
       " 'percentage_files': 8.97}"
      ]
     },
     "execution_count": 142,
     "metadata": {},
     "output_type": "execute_result"
    }
   ],
   "source": [
    "files_dict[\"decoder\"]"
   ]
  },
  {
   "cell_type": "code",
   "execution_count": 143,
   "metadata": {},
   "outputs": [
    {
     "data": {
      "text/plain": [
       "{'num_nodes': 400,\n",
       " 'num_edges': 439,\n",
       " 'average_nodes': 17.39,\n",
       " 'average_edges': 19.09,\n",
       " 'num_files': 23,\n",
       " 'percentage_nodes': 9.13,\n",
       " 'percentage_edges': 81.49,\n",
       " 'percentage_files': 7.93}"
      ]
     },
     "execution_count": 143,
     "metadata": {},
     "output_type": "execute_result"
    }
   ],
   "source": [
    "files_dict[\"encoder\"]"
   ]
  },
  {
   "cell_type": "code",
   "execution_count": 144,
   "metadata": {},
   "outputs": [
    {
     "data": {
      "text/plain": [
       "{'num_nodes': 371,\n",
       " 'num_edges': 463,\n",
       " 'average_nodes': 15.46,\n",
       " 'average_edges': 19.29,\n",
       " 'num_files': 24,\n",
       " 'percentage_nodes': 8.47,\n",
       " 'percentage_edges': 85.95,\n",
       " 'percentage_files': 8.28}"
      ]
     },
     "execution_count": 144,
     "metadata": {},
     "output_type": "execute_result"
    }
   ],
   "source": [
    "files_dict[\"mult\"]"
   ]
  },
  {
   "cell_type": "code",
   "execution_count": 145,
   "metadata": {},
   "outputs": [
    {
     "data": {
      "text/plain": [
       "{'num_nodes': 419,\n",
       " 'num_edges': 538,\n",
       " 'average_nodes': 16.12,\n",
       " 'average_edges': 20.69,\n",
       " 'num_files': 26,\n",
       " 'percentage_nodes': 9.56,\n",
       " 'percentage_edges': 99.87,\n",
       " 'percentage_files': 8.97}"
      ]
     },
     "execution_count": 145,
     "metadata": {},
     "output_type": "execute_result"
    }
   ],
   "source": [
    "files_dict[\"mux\"]"
   ]
  },
  {
   "cell_type": "code",
   "execution_count": 146,
   "metadata": {},
   "outputs": [
    {
     "data": {
      "text/plain": [
       "{'num_nodes': 137,\n",
       " 'num_edges': 135,\n",
       " 'average_nodes': 6.85,\n",
       " 'average_edges': 6.75,\n",
       " 'num_files': 20,\n",
       " 'percentage_nodes': 3.13,\n",
       " 'percentage_edges': 25.06,\n",
       " 'percentage_files': 6.9}"
      ]
     },
     "execution_count": 146,
     "metadata": {},
     "output_type": "execute_result"
    }
   ],
   "source": [
    "files_dict[\"nand\"]"
   ]
  },
  {
   "cell_type": "code",
   "execution_count": 147,
   "metadata": {},
   "outputs": [
    {
     "data": {
      "text/plain": [
       "{'num_nodes': 120,\n",
       " 'num_edges': 104,\n",
       " 'average_nodes': 7.5,\n",
       " 'average_edges': 6.5,\n",
       " 'num_files': 16,\n",
       " 'percentage_nodes': 2.74,\n",
       " 'percentage_edges': 19.31,\n",
       " 'percentage_files': 5.52}"
      ]
     },
     "execution_count": 147,
     "metadata": {},
     "output_type": "execute_result"
    }
   ],
   "source": [
    "files_dict[\"nor\"]"
   ]
  },
  {
   "cell_type": "code",
   "execution_count": 148,
   "metadata": {},
   "outputs": [
    {
     "data": {
      "text/plain": [
       "{'num_nodes': 57,\n",
       " 'num_edges': 46,\n",
       " 'average_nodes': 5.18,\n",
       " 'average_edges': 4.18,\n",
       " 'num_files': 11,\n",
       " 'percentage_nodes': 1.3,\n",
       " 'percentage_edges': 8.54,\n",
       " 'percentage_files': 3.79}"
      ]
     },
     "execution_count": 148,
     "metadata": {},
     "output_type": "execute_result"
    }
   ],
   "source": [
    "files_dict[\"not\"]"
   ]
  },
  {
   "cell_type": "code",
   "execution_count": 149,
   "metadata": {},
   "outputs": [
    {
     "data": {
      "text/plain": [
       "{'num_nodes': 147,\n",
       " 'num_edges': 129,\n",
       " 'average_nodes': 6.12,\n",
       " 'average_edges': 5.38,\n",
       " 'num_files': 24,\n",
       " 'percentage_nodes': 3.35,\n",
       " 'percentage_edges': 23.95,\n",
       " 'percentage_files': 8.28}"
      ]
     },
     "execution_count": 149,
     "metadata": {},
     "output_type": "execute_result"
    }
   ],
   "source": [
    "files_dict[\"or\"]"
   ]
  },
  {
   "cell_type": "code",
   "execution_count": 150,
   "metadata": {},
   "outputs": [
    {
     "data": {
      "text/plain": [
       "{'num_nodes': 264,\n",
       " 'num_edges': 317,\n",
       " 'average_nodes': 16.5,\n",
       " 'average_edges': 19.81,\n",
       " 'num_files': 16,\n",
       " 'percentage_nodes': 6.02,\n",
       " 'percentage_edges': 58.85,\n",
       " 'percentage_files': 5.52}"
      ]
     },
     "execution_count": 150,
     "metadata": {},
     "output_type": "execute_result"
    }
   ],
   "source": [
    "files_dict[\"pe\"]"
   ]
  },
  {
   "cell_type": "code",
   "execution_count": 151,
   "metadata": {},
   "outputs": [
    {
     "data": {
      "text/plain": [
       "{'num_nodes': 131,\n",
       " 'num_edges': 147,\n",
       " 'average_nodes': 14.56,\n",
       " 'average_edges': 16.33,\n",
       " 'num_files': 9,\n",
       " 'percentage_nodes': 2.99,\n",
       " 'percentage_edges': 27.29,\n",
       " 'percentage_files': 3.1}"
      ]
     },
     "execution_count": 151,
     "metadata": {},
     "output_type": "execute_result"
    }
   ],
   "source": [
    "files_dict[\"sub\"]"
   ]
  },
  {
   "cell_type": "code",
   "execution_count": 152,
   "metadata": {},
   "outputs": [
    {
     "data": {
      "text/plain": [
       "{'num_nodes': 160,\n",
       " 'num_edges': 142,\n",
       " 'average_nodes': 6.96,\n",
       " 'average_edges': 6.17,\n",
       " 'num_files': 23,\n",
       " 'percentage_nodes': 3.65,\n",
       " 'percentage_edges': 26.36,\n",
       " 'percentage_files': 7.93}"
      ]
     },
     "execution_count": 152,
     "metadata": {},
     "output_type": "execute_result"
    }
   ],
   "source": [
    "files_dict[\"xnor\"]"
   ]
  },
  {
   "cell_type": "code",
   "execution_count": 155,
   "metadata": {},
   "outputs": [],
   "source": [
    "nodes_sizes_dict = dict()\n",
    "for key in data_dict.keys():\n",
    "    node_sizes = []\n",
    "    node_connections = []\n",
    "    for file_path in verilog_files:\n",
    "        st = file_path.split(\"\\\\\")[1].split(\".\")[0]\n",
    "        pattern = f\"^({key})\\d+\"\n",
    "        if re.match(pattern, st):\n",
    "            num_files += 1\n",
    "            with open(file_path, \"r\") as file:\n",
    "                loaded_data = json.load(file)\n",
    "                for sublist in loaded_data[0]:\n",
    "                    node_sizes.append(sublist[3])\n",
    "                    node_connections.append(sublist[2])\n",
    "                \n",
    "    nodes_sizes_dict[key] = {\n",
    "        \"node connections list\": node_connections,\n",
    "        \"node size list\" : node_sizes\n",
    "    }\n"
   ]
  },
  {
   "cell_type": "code",
   "execution_count": null,
   "metadata": {},
   "outputs": [],
   "source": []
  }
 ],
 "metadata": {
  "kernelspec": {
   "display_name": "base",
   "language": "python",
   "name": "python3"
  },
  "language_info": {
   "codemirror_mode": {
    "name": "ipython",
    "version": 3
   },
   "file_extension": ".py",
   "mimetype": "text/x-python",
   "name": "python",
   "nbconvert_exporter": "python",
   "pygments_lexer": "ipython3",
   "version": "3.9.12"
  }
 },
 "nbformat": 4,
 "nbformat_minor": 2
}
