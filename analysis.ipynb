{
 "cells": [
  {
   "cell_type": "code",
   "execution_count": 1,
   "metadata": {},
   "outputs": [],
   "source": [
    "import os\n",
    "import json\n",
    "import re\n",
    "import shutil\n",
    "input_folder = \"encoded\"\n",
    "output_folder = \"done\"\n",
    "import torch\n",
    "import torch.nn.functional as F\n"
   ]
  },
  {
   "cell_type": "code",
   "execution_count": 20,
   "metadata": {},
   "outputs": [
    {
     "name": "stdout",
     "output_type": "stream",
     "text": [
      "290\n",
      "<class 'str'>\n",
      "encoded\\adder11.txt\n"
     ]
    }
   ],
   "source": [
    "# Use list comprehension to create a list of file paths\n",
    "verilog_files = [os.path.join(input_folder, filename) for filename in os.listdir(input_folder) if filename.endswith('.txt')]\n",
    "\n",
    "# Print the list of file paths\n",
    "print(len(verilog_files))\n",
    "print(type(verilog_files[0]))\n",
    "print(verilog_files[0])\n"
   ]
  },
  {
   "cell_type": "code",
   "execution_count": 21,
   "metadata": {},
   "outputs": [
    {
     "name": "stdout",
     "output_type": "stream",
     "text": [
      "<_io.TextIOWrapper name='encoded\\\\ALU10.txt' mode='r' encoding='UTF-8'>\n",
      "<_io.TextIOWrapper name='encoded\\\\ALU13.txt' mode='r' encoding='UTF-8'>\n",
      "<_io.TextIOWrapper name='encoded\\\\decoder30.txt' mode='r' encoding='UTF-8'>\n",
      "<_io.TextIOWrapper name='encoded\\\\encoder16.txt' mode='r' encoding='UTF-8'>\n",
      "<_io.TextIOWrapper name='encoded\\\\encoder18.txt' mode='r' encoding='UTF-8'>\n",
      "<_io.TextIOWrapper name='encoded\\\\encoder6.txt' mode='r' encoding='UTF-8'>\n",
      "<_io.TextIOWrapper name='encoded\\\\pe14.txt' mode='r' encoding='UTF-8'>\n",
      "<_io.TextIOWrapper name='encoded\\\\pe15.txt' mode='r' encoding='UTF-8'>\n",
      "<_io.TextIOWrapper name='encoded\\\\pe16.txt' mode='r' encoding='UTF-8'>\n",
      "<_io.TextIOWrapper name='encoded\\\\pe22.txt' mode='r' encoding='UTF-8'>\n",
      "<_io.TextIOWrapper name='encoded\\\\pe7.txt' mode='r' encoding='UTF-8'>\n"
     ]
    }
   ],
   "source": [
    "num_connections_list = []\n",
    "size_list = []\n",
    "num_nodes_files_list = []\n",
    "num_edges_files_list = []\n",
    "for file in verilog_files:\n",
    "    with open(file, \"r\") as file:\n",
    "        loaded_data = json.load(file)\n",
    "        num_nodes_files_list.append(len(loaded_data[0]))\n",
    "        num_edges_files_list.append(len(loaded_data[1][0]))\n",
    "        for sublist in loaded_data[0]:\n",
    "            if sublist[2] == 0:\n",
    "                print(file)\n",
    "                continue\n",
    "            num_connections_list.append(sublist[2])\n",
    "            size_list.append(sublist[3])"
   ]
  },
  {
   "cell_type": "code",
   "execution_count": 22,
   "metadata": {},
   "outputs": [
    {
     "name": "stdout",
     "output_type": "stream",
     "text": [
      "Average connections:  2.506062685884237\n",
      "Max connections:  34\n",
      "Min connections:  1\n"
     ]
    }
   ],
   "source": [
    "average_connections = sum(num_connections_list) / len(num_connections_list)\n",
    "max_connections = max(num_connections_list)\n",
    "min_connections = min(num_connections_list)\n",
    "\n",
    "print(\"Average connections: \", average_connections)\n",
    "print(\"Max connections: \", max_connections)\n",
    "print(\"Min connections: \", min_connections)"
   ]
  },
  {
   "cell_type": "code",
   "execution_count": 23,
   "metadata": {},
   "outputs": [
    {
     "name": "stdout",
     "output_type": "stream",
     "text": [
      "Average node size:  2.578586135895676\n",
      "Max node size:  32\n",
      "Min node size:  1\n"
     ]
    }
   ],
   "source": [
    "average_size = sum(size_list) / len(size_list)\n",
    "max_size = max(size_list)\n",
    "min_size = min(size_list)\n",
    "\n",
    "print(\"Average node size: \", average_size)\n",
    "print(\"Max node size: \", max_size)\n",
    "print(\"Min node size: \", min_size)"
   ]
  },
  {
   "cell_type": "code",
   "execution_count": 24,
   "metadata": {},
   "outputs": [
    {
     "name": "stdout",
     "output_type": "stream",
     "text": [
      "Average number of nodes:  15.110344827586207\n",
      "Max number of nodes:  165\n",
      "Min number of nodes:  3\n"
     ]
    }
   ],
   "source": [
    "avergae_num_nodes = sum(num_nodes_files_list) / len(num_nodes_files_list)\n",
    "max_num_nodes = max(num_nodes_files_list)\n",
    "min_num_nodes = min(num_nodes_files_list)\n",
    "\n",
    "print(\"Average number of nodes: \", avergae_num_nodes)\n",
    "print(\"Max number of nodes: \", max_num_nodes)\n",
    "print(\"Min number of nodes: \", min_num_nodes)"
   ]
  },
  {
   "cell_type": "code",
   "execution_count": 25,
   "metadata": {},
   "outputs": [
    {
     "name": "stdout",
     "output_type": "stream",
     "text": [
      "Average number of edges:  18.575862068965517\n",
      "Max number of edges:  208\n",
      "Min number of edges:  2\n"
     ]
    }
   ],
   "source": [
    "average_edges = sum(num_edges_files_list) / len(num_edges_files_list)\n",
    "max_edges = max(num_edges_files_list)\n",
    "min_edges = min(num_edges_files_list)\n",
    "\n",
    "print(\"Average number of edges: \", average_edges)\n",
    "print(\"Max number of edges: \", max_edges)\n",
    "print(\"Min number of edges: \", min_edges)"
   ]
  },
  {
   "cell_type": "code",
   "execution_count": null,
   "metadata": {},
   "outputs": [],
   "source": [
    "\n",
    "        "
   ]
  }
 ],
 "metadata": {
  "kernelspec": {
   "display_name": "base",
   "language": "python",
   "name": "python3"
  },
  "language_info": {
   "codemirror_mode": {
    "name": "ipython",
    "version": 3
   },
   "file_extension": ".py",
   "mimetype": "text/x-python",
   "name": "python",
   "nbconvert_exporter": "python",
   "pygments_lexer": "ipython3",
   "version": "3.9.12"
  }
 },
 "nbformat": 4,
 "nbformat_minor": 2
}
