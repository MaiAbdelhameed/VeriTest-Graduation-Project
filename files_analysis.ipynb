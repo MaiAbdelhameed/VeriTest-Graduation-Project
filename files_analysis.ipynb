{
 "cells": [
  {
   "cell_type": "code",
   "execution_count": 1,
   "metadata": {},
   "outputs": [],
   "source": [
    "import os\n",
    "import json\n",
    "import re\n",
    "import shutil\n",
    "input_folder = \"encoded_yosys\"\n",
    "output_folder = \"done_all\"\n",
    "# import torch\n",
    "# import torch.nn.functional as F\n"
   ]
  },
  {
   "cell_type": "code",
   "execution_count": 2,
   "metadata": {},
   "outputs": [
    {
     "name": "stdout",
     "output_type": "stream",
     "text": [
      "396\n",
      "<class 'str'>\n",
      "encoded_yosys\\adder10_synth.txt\n"
     ]
    }
   ],
   "source": [
    "# Use list comprehension to create a list of file paths\n",
    "verilog_files = [os.path.join(input_folder, filename) for filename in os.listdir(input_folder) if filename.endswith('.txt')]\n",
    "\n",
    "# Print the list of file paths\n",
    "print(len(verilog_files))\n",
    "print(type(verilog_files[0]))\n",
    "print(verilog_files[0])\n"
   ]
  },
  {
   "cell_type": "code",
   "execution_count": 3,
   "metadata": {},
   "outputs": [],
   "source": [
    "type_index = {\n",
    "    \"input\":    \"1000000\",\n",
    "    \"output\":   \"0100000\",\n",
    "    \"wire\":     \"0010000\",\n",
    "    \"not\" :     \"0001000\",\n",
    "    \"or\" :      \"0000100\",\n",
    "    \"and\":      \"0000010\",\n",
    "    \"constVal\": \"0000001\"\n",
    "}"
   ]
  },
  {
   "cell_type": "code",
   "execution_count": 4,
   "metadata": {},
   "outputs": [],
   "source": [
    "files_dict = dict()\n",
    "for file in verilog_files:\n",
    "    num_nodes = 0\n",
    "    num_edges = 0\n",
    "    input_count = 0\n",
    "    output_count = 0\n",
    "    wire_count = 0\n",
    "    or_count = 0\n",
    "    and_count = 0\n",
    "    not_count = 0\n",
    "    constVal_count = 0\n",
    "    file_name = file.split(\".\")[0].split(\"\\\\\")[1]\n",
    "    if file.endswith('.txt'):\n",
    "        with open(file, \"r\") as f:\n",
    "            loaded_data = json.load(f)\n",
    "            num_nodes = len(loaded_data[0])\n",
    "            num_edges = len(loaded_data[1][0])\n",
    "            for sublist in loaded_data[0]:\n",
    "                if sublist[0]:\n",
    "                    input_count += 1\n",
    "                if sublist[1]:\n",
    "                    output_count += 1\n",
    "                if sublist[2]:\n",
    "                    wire_count += 1\n",
    "                if sublist[3]:\n",
    "                    not_count += 1\n",
    "                if sublist[4]:\n",
    "                    or_count += 1\n",
    "                if sublist[5]:\n",
    "                    and_count += 1\n",
    "                if sublist[6]:\n",
    "                    constVal_count += 1\n",
    "                \n",
    "            statistics_dic = {\"num_nodes\": num_nodes, \"num_edges\" : num_edges}\n",
    "            count_dict = {\"input_count\": input_count, \"output_count\": output_count, \"wire_count\": wire_count, \"not_count\": not_count, \"or_count\": or_count, \"and_count\": and_count, \"constVal_count\": constVal_count}\n",
    "            files_dict[file_name] = {\"statistics\":statistics_dic,\"counts\": count_dict}\n"
   ]
  },
  {
   "cell_type": "code",
   "execution_count": 5,
   "metadata": {},
   "outputs": [],
   "source": [
    "with open(\"files_info.txt\", 'w') as file:\n",
    "    file.write(json.dumps(files_dict, indent=4))"
   ]
  },
  {
   "cell_type": "code",
   "execution_count": 6,
   "metadata": {},
   "outputs": [
    {
     "name": "stdout",
     "output_type": "stream",
     "text": [
      "adder 28\n",
      "and 30\n",
      "comparator 22\n",
      "decoder 32\n",
      "encoder 25\n",
      "mult 29\n",
      "mux 27\n",
      "nand 31\n",
      "nor 30\n",
      "not 16\n",
      "or 27\n",
      "pe 21\n",
      "sub 11\n",
      "xnor 30\n",
      "xor 28\n"
     ]
    }
   ],
   "source": [
    "with open(\"labels_dict.txt\", 'r') as file:\n",
    "    data = file.read()\n",
    "data_dict = json.loads(data)\n",
    "for key, value in data_dict.items():\n",
    "    print(key, value)\n",
    "    "
   ]
  },
  {
   "cell_type": "code",
   "execution_count": 7,
   "metadata": {},
   "outputs": [],
   "source": [
    "num_nodes_files_list = []\n",
    "num_edges_files_list = []\n",
    "for file in verilog_files:\n",
    "    with open(file, \"r\") as file:\n",
    "        loaded_data = json.load(file)\n",
    "        num_nodes_files_list.append(len(loaded_data[0]))\n",
    "        num_edges_files_list.append(len(loaded_data[1][0]))"
   ]
  },
  {
   "cell_type": "code",
   "execution_count": 10,
   "metadata": {},
   "outputs": [
    {
     "name": "stdout",
     "output_type": "stream",
     "text": [
      "Average number of nodes:  55.30555555555556\n",
      "Max number of nodes:  1736\n",
      "Min number of nodes:  3\n"
     ]
    }
   ],
   "source": [
    "avergae_num_nodes = sum(num_nodes_files_list) / len(num_nodes_files_list)\n",
    "max_num_nodes = max(num_nodes_files_list)\n",
    "min_num_nodes = min(num_nodes_files_list)\n",
    "\n",
    "print(\"Average number of nodes: \", avergae_num_nodes)\n",
    "print(\"Max number of nodes: \", max_num_nodes)\n",
    "print(\"Min number of nodes: \", min_num_nodes)"
   ]
  },
  {
   "cell_type": "code",
   "execution_count": 11,
   "metadata": {},
   "outputs": [
    {
     "name": "stdout",
     "output_type": "stream",
     "text": [
      "Average number of edges:  77.61363636363636\n",
      "Max number of edges:  2560\n",
      "Min number of edges:  2\n"
     ]
    }
   ],
   "source": [
    "average_edges = sum(num_edges_files_list) / len(num_edges_files_list)\n",
    "max_edges = max(num_edges_files_list)\n",
    "min_edges = min(num_edges_files_list)\n",
    "\n",
    "print(\"Average number of edges: \", average_edges)\n",
    "print(\"Max number of edges: \", max_edges)\n",
    "print(\"Min number of edges: \", min_edges)"
   ]
  },
  {
   "cell_type": "code",
   "execution_count": 12,
   "metadata": {},
   "outputs": [
    {
     "data": {
      "text/plain": [
       "21901"
      ]
     },
     "execution_count": 12,
     "metadata": {},
     "output_type": "execute_result"
    }
   ],
   "source": [
    "sum_nodes = sum(num_nodes_files_list)\n",
    "sum_nodes"
   ]
  },
  {
   "cell_type": "code",
   "execution_count": 13,
   "metadata": {},
   "outputs": [],
   "source": [
    "files_dict = dict()\n",
    "for key in data_dict.keys():\n",
    "    num_nodes = 0\n",
    "    num_edges = 0\n",
    "    num_files = 0\n",
    "    # node_sizes = []\n",
    "    for file_path in verilog_files:\n",
    "        st = file_path.split(\"\\\\\")[1].split(\".\")[0]\n",
    "        # print(st)\n",
    "        pattern = f\"^({key})\\d+\"\n",
    "        # print(pattern)\n",
    "        if re.match(pattern, st):\n",
    "            # print(\"hi\")\n",
    "            num_files += 1\n",
    "            with open(file_path, \"r\") as file:\n",
    "                loaded_data = json.load(file)\n",
    "                num_nodes += len(loaded_data[0])\n",
    "                num_edges += len(loaded_data[1][0])\n",
    "                # for sublist in loaded_data[0]:\n",
    "                #     node_sizes.append(sublist[3])\n",
    "                \n",
    "    files_dict[key] = {\n",
    "        \"num_nodes\": num_nodes,\n",
    "        \"num_edges\": num_edges,\n",
    "        \"average_nodes\": round(num_nodes / num_files,2),\n",
    "        \"average_edges\": round(num_edges / num_files,2),\n",
    "        \"num_files\": num_files,\n",
    "        \"percentage_nodes\" : round(num_nodes / sum_nodes * 100,2),\n",
    "        \"percentage_edges\" : round(num_edges / sum(num_edges_files_list) * 1000,2),\n",
    "        \"percentage_files\" : round(num_files / len(verilog_files) * 100,2)\n",
    "    }\n",
    "# files_dict"
   ]
  },
  {
   "cell_type": "code",
   "execution_count": 15,
   "metadata": {},
   "outputs": [
    {
     "data": {
      "text/plain": [
       "'done_all\\\\adder10_synth.txt'"
      ]
     },
     "execution_count": 15,
     "metadata": {},
     "output_type": "execute_result"
    }
   ],
   "source": [
    "encoded_files = [os.path.join(output_folder, filename) for filename in os.listdir(input_folder) if filename.endswith('.txt')]\n",
    "encoded_files[0]"
   ]
  },
  {
   "cell_type": "code",
   "execution_count": 16,
   "metadata": {},
   "outputs": [],
   "source": [
    "nodes_files_info = dict()\n",
    "input_count = 0\n",
    "output_count = 0\n",
    "reg_count = 0\n",
    "wire_count = 0\n",
    "constVal_count = 0\n",
    "not_count = 0\n",
    "or_count = 0\n",
    "and_count = 0\n",
    "for key in data_dict.keys():\n",
    "    key_dict = dict()\n",
    "    for file_path in encoded_files:\n",
    "        st = file_path.split(\"\\\\\")[1].split(\".\")[0].split(\"_\")[0]\n",
    "        # print(st)\n",
    "        # print(key)\n",
    "        pattern = f\"^({key})\\d+\"\n",
    "        # print(re.match(pattern, st))\n",
    "        if re.match(pattern, st):\n",
    "            with open(file_path, \"r\") as file:\n",
    "                loaded_data = json.load(file)\n",
    "                for sublist in loaded_data[0]:\n",
    "                    # print(sublist)\n",
    "                    # break\n",
    "                    if sublist[0]: # input\n",
    "                        key_dict[\"input\"] = key_dict.get(\"input\", 0) + 1\n",
    "                        input_count +=1\n",
    "                        \n",
    "                    elif sublist[1]: #output\n",
    "                        key_dict[\"output\"] = key_dict.get(\"output\", 0) + 1\n",
    "                        output_count += 1\n",
    "                        \n",
    "                        \n",
    "                    elif sublist[2]: #wire\n",
    "                        key_dict[\"wire\"] = key_dict.get(\"wire\", 0) + 1\n",
    "                        wire_count +=1\n",
    "                        \n",
    "                    elif sublist[3]:\n",
    "                        key_dict[\"not\"] = key_dict.get(\"not\", 0) + 1\n",
    "                        not_count+=1\n",
    "                        \n",
    "                    elif sublist[4]:\n",
    "                        key_dict[\"or\"] = key_dict.get(\"or\", 0) + 1\n",
    "                        or_count+=1\n",
    "                        \n",
    "                    elif sublist[5]:\n",
    "                        key_dict[\"and\"] = key_dict.get(\"and\", 0) + 1\n",
    "                        and_count+=1\n",
    "                        \n",
    "                    elif sublist[6]:\n",
    "                        key_dict[\"constVal\"] = key_dict.get(\"constVal\", 0) + 1\n",
    "                        constVal_count+=1\n",
    "                        \n",
    "                    else: \n",
    "                        print(\"eh el habal da\")\n",
    "                        \n",
    "    nodes_files_info[key] = key_dict\n",
    "                \n",
    "    \n",
    "# files_dict"
   ]
  },
  {
   "cell_type": "code",
   "execution_count": 17,
   "metadata": {},
   "outputs": [
    {
     "name": "stdout",
     "output_type": "stream",
     "text": [
      "Input Nodes Count =  1211\n",
      "Output Nodes Count =  538\n",
      "Wire Nodes Count =  8938\n",
      "\n",
      "ConstVal Nodes Count =  13\n",
      "Not Nodes Count =  1782\n",
      "Or Nodes Count =  3928\n",
      "And Nodes Count =  4808\n"
     ]
    }
   ],
   "source": [
    "print(\"Input Nodes Count = \", input_count)\n",
    "print(\"Output Nodes Count = \", output_count)\n",
    "print(\"Wire Nodes Count = \", wire_count)\n",
    "print()\n",
    "print(\"ConstVal Nodes Count = \", constVal_count)\n",
    "print(\"Not Nodes Count = \", not_count)\n",
    "print(\"Or Nodes Count = \", or_count)\n",
    "print(\"And Nodes Count = \", and_count)"
   ]
  },
  {
   "cell_type": "code",
   "execution_count": 18,
   "metadata": {},
   "outputs": [],
   "source": [
    "# write global statistics to file\n",
    "with open(\"global_statistics.txt\", \"w\") as file:\n",
    "    file.write(\"Average number of nodes: \" + str(avergae_num_nodes) + \"\\n\")\n",
    "    file.write(\"Max number of nodes: \" + str(max_num_nodes) + \"\\n\")\n",
    "    file.write(\"Min number of nodes: \" + str(min_num_nodes) + \"\\n\")\n",
    "    file.write(\"Average number of edges: \" + str(average_edges) + \"\\n\")\n",
    "    file.write(\"Max number of edges: \" + str(max_edges) + \"\\n\")\n",
    "    file.write(\"Min number of edges: \" + str(min_edges) + \"\\n\")\n",
    "    file.write(\"Sum number of nodes: \" + str(sum_nodes) + \"\\n\")"
   ]
  },
  {
   "cell_type": "code",
   "execution_count": 19,
   "metadata": {},
   "outputs": [],
   "source": [
    "with open(\"files_global_statistics.txt\", \"w\") as file:\n",
    "    file.write(json.dumps(files_dict, indent=4))"
   ]
  },
  {
   "cell_type": "code",
   "execution_count": 20,
   "metadata": {},
   "outputs": [],
   "source": [
    "with open(\"global_dataset_nodes_info.txt\", \"w\") as file:\n",
    "    file.write(\"Input = \" + str(input_count) + \"\\n\")\n",
    "    file.write(\"Output = \" + str(output_count) + \"\\n\")\n",
    "    file.write(\"Wire = \" + str(wire_count) + \"\\n\")\n",
    "    file.write(\"\\n\")\n",
    "    file.write(\"ConstVal = \" + str(constVal_count) + \"\\n\")\n",
    "    file.write(\"Not = \" + str(not_count) + \"\\n\")\n",
    "    file.write(\"Or = \" + str(or_count) + \"\\n\")\n",
    "    file.write(\"And = \" + str(and_count) + \"\\n\")"
   ]
  },
  {
   "cell_type": "code",
   "execution_count": 21,
   "metadata": {},
   "outputs": [],
   "source": [
    "with open(\"classes_nodes_info.txt\", \"w\") as file:\n",
    "    file.write(json.dumps(nodes_files_info, indent=4))"
   ]
  },
  {
   "cell_type": "code",
   "execution_count": null,
   "metadata": {},
   "outputs": [],
   "source": []
  }
 ],
 "metadata": {
  "kernelspec": {
   "display_name": "base",
   "language": "python",
   "name": "python3"
  },
  "language_info": {
   "codemirror_mode": {
    "name": "ipython",
    "version": 3
   },
   "file_extension": ".py",
   "mimetype": "text/x-python",
   "name": "python",
   "nbconvert_exporter": "python",
   "pygments_lexer": "ipython3",
   "version": "3.9.12"
  }
 },
 "nbformat": 4,
 "nbformat_minor": 2
}
