{
 "cells": [
  {
   "cell_type": "code",
   "execution_count": 1,
   "metadata": {},
   "outputs": [],
   "source": [
    "import os\n",
    "import json\n",
    "import re\n",
    "import shutil\n",
    "input_folder = \"encoded_yosys\"\n",
    "output_folder = \"done_all\"\n",
    "# import torch\n",
    "# import torch.nn.functional as F\n"
   ]
  },
  {
   "cell_type": "code",
   "execution_count": 2,
   "metadata": {},
   "outputs": [
    {
     "name": "stdout",
     "output_type": "stream",
     "text": [
      "396\n",
      "<class 'str'>\n",
      "encoded_yosys\\adder10_synth.txt\n"
     ]
    }
   ],
   "source": [
    "# Use list comprehension to create a list of file paths\n",
    "verilog_files = [os.path.join(input_folder, filename) for filename in os.listdir(input_folder) if filename.endswith('.txt')]\n",
    "\n",
    "# Print the list of file paths\n",
    "print(len(verilog_files))\n",
    "print(type(verilog_files[0]))\n",
    "print(verilog_files[0])\n"
   ]
  },
  {
   "cell_type": "code",
   "execution_count": null,
   "metadata": {},
   "outputs": [],
   "source": [
    "type_index = {\n",
    "    \"input\":    \"1000000\",\n",
    "    \"output\":   \"0100000\",\n",
    "    \"wire\":     \"0010000\",\n",
    "    \"not\" :     \"0001000\",\n",
    "    \"or\" :      \"0000100\",\n",
    "    \"and\":      \"0000010\",\n",
    "    \"constVal\": \"0000001\"\n",
    "}"
   ]
  },
  {
   "cell_type": "code",
   "execution_count": 9,
   "metadata": {},
   "outputs": [],
   "source": [
    "files_dict = dict()\n",
    "for file in verilog_files:\n",
    "    num_nodes = 0\n",
    "    num_edges = 0\n",
    "    input_count = 0\n",
    "    output_count = 0\n",
    "    wire_count = 0\n",
    "    or_count = 0\n",
    "    and_count = 0\n",
    "    not_count = 0\n",
    "    constVal_count = 0\n",
    "    file_name = file.split(\".\")[0].split(\"\\\\\")[1]\n",
    "    if file.endswith('.txt'):\n",
    "        with open(file, \"r\") as f:\n",
    "            loaded_data = json.load(f)\n",
    "            num_nodes = len(loaded_data[0])\n",
    "            num_edges = len(loaded_data[1][0])\n",
    "            for sublist in loaded_data[0]:\n",
    "                if sublist[0]:\n",
    "                    input_count += 1\n",
    "                if sublist[1]:\n",
    "                    output_count += 1\n",
    "                if sublist[2]:\n",
    "                    wire_count += 1\n",
    "                if sublist[3]:\n",
    "                    not_count += 1\n",
    "                if sublist[4]:\n",
    "                    or_count += 1\n",
    "                if sublist[5]:\n",
    "                    and_count += 1\n",
    "                if sublist[6]:\n",
    "                    constVal_count += 1\n",
    "                \n",
    "            statistics_dic = {\"num_nodes\": num_nodes, \"num_edges\" : num_edges}\n",
    "            count_dict = {\"input_count\": input_count, \"output_count\": output_count, \"wire_count\": wire_count, \"not_count\": not_count, \"or_count\": or_count, \"and_count\": and_count, \"constVal_count\": constVal_count}\n",
    "            files_dict[file_name] = {\"statistics\":statistics_dic,\"counts\": count_dict}\n"
   ]
  },
  {
   "cell_type": "code",
   "execution_count": 11,
   "metadata": {},
   "outputs": [],
   "source": [
    "with open(\"files_info.txt\", 'w') as file:\n",
    "    file.write(json.dumps(files_dict, indent=4))"
   ]
  },
  {
   "cell_type": "code",
   "execution_count": null,
   "metadata": {},
   "outputs": [],
   "source": []
  }
 ],
 "metadata": {
  "kernelspec": {
   "display_name": "base",
   "language": "python",
   "name": "python3"
  },
  "language_info": {
   "codemirror_mode": {
    "name": "ipython",
    "version": 3
   },
   "file_extension": ".py",
   "mimetype": "text/x-python",
   "name": "python",
   "nbconvert_exporter": "python",
   "pygments_lexer": "ipython3",
   "version": "3.9.12"
  }
 },
 "nbformat": 4,
 "nbformat_minor": 2
}
